{
  "nbformat": 4,
  "nbformat_minor": 0,
  "metadata": {
    "colab": {
      "name": "Roboflow-EfficientDet-v2",
      "provenance": [],
      "toc_visible": true
    },
    "kernelspec": {
      "name": "python3",
      "display_name": "Python 3"
    },
    "accelerator": "GPU"
  },
  "cells": [
    {
      "cell_type": "markdown",
      "metadata": {
        "id": "dA0CmSKv-7y-",
        "colab_type": "text"
      },
      "source": [
        "For the most up to date version of this notebook, please copy from this link\n",
        "\n",
        "---\n",
        "\n",
        "\n",
        "\n",
        "[![Open In Colab](https://colab.research.google.com/assets/colab-badge.svg)](https://colab.research.google.com/drive/1ZmbeTro4SqT7h_TfW63MLdqbrCUk_1br#scrollTo=KwDS9qqBbMQa)"
      ]
    },
    {
      "cell_type": "markdown",
      "metadata": {
        "id": "sAs6vn4Rukct",
        "colab_type": "text"
      },
      "source": [
        "\n",
        "\n",
        "\n",
        "# Overview\n",
        "\n",
        "💡 Recommendation: [Open this blog post](https://docs.google.com/document/d/1KBKBrNHsXQw7WTQOSKj2snQpsMh7mdFCxQUCdqb6gpw/edit?ts=5e8f2493) to continue.\n",
        "\n",
        "In this notebook we show an example of how to train EfficientDet using a pytorch implementation on a custom dataset that has been uploaded through RoboFlow. The example provides a flexible framework, so you can apply it to your own dataset with a custom number of classes and a different objective. We we tackle chess here. \n",
        "\n",
        "![Chess Example](https://i.imgur.com/nkjobw1.png)\n",
        "\n",
        "### **Our Data and Roboflow**\n",
        "\n",
        "Our dataset of 289 chess images (and 2894 annotations!) is hosted publicly on Roboflow [here](https://public.roboflow.ai/object-detection/chess-full). Roboflow also hosts many other public datasets and you can easily upload your own custom dataset for your use case, augment, and export in flexible formats. Our tutorial uses Coco Json, but you might have another format (say tfrecord). No problem! Upload your dataset and we will export it in the required format.\n",
        "\n",
        "### **Model and Training**\n",
        "\n",
        "For a deep dive on the EfficientDet model please see [the paper](https://arxiv.org/abs/1911.09070). For a shorter look, here is a great [blog post](https://towardsdatascience.com/efficientdet-scalable-and-efficient-object-detection-review-4472ffc34fd9)! \n",
        "\n",
        "We use a pytorch implementation of EfficientDet using the [image detection library](https://github.com/roboflow-ai/Monk_Object_Detection) from Tessellate-Imaging for object detection. Our implementation uses the base version of EfficientDet-d0.  We train from the EfficientNet base backbone, without using a pretrained checkpoint for the detector.\n",
        "\n",
        "### **Inference**\n",
        "\n",
        "We witness some fast inference on a few basic examples from our test set to see that our approach is heading in the right direction.\n",
        "\n",
        "### **Export**\n",
        "\n",
        "We export our model weights to google drive for future utilization.\n",
        "\n",
        "### **Next Steps**\n",
        "\n",
        "We will be exploring evaluation on custom RoboFlow datasets and objectives compared to yoloV3, including training time, inference time, model size, and performance. \n",
        "\n",
        "We will also explore comparing performance from the Coco pretrained checkpoint!\n",
        "\n",
        "## **Stay in touch!**\n",
        "\n",
        "If you run into any hurdles on your own data set or just want to share some cool results in your own domain, [reach out to us](roboflow.ai)! \n",
        "\n",
        "#### ![Roboflow Workmark](https://i.imgur.com/WHFqYSJ.png)\n",
        "\n"
      ]
    },
    {
      "cell_type": "markdown",
      "metadata": {
        "id": "8SJBVVCyvObX",
        "colab_type": "text"
      },
      "source": [
        "# Setting up our envionment"
      ]
    },
    {
      "cell_type": "code",
      "metadata": {
        "id": "X2EDGrtsba1E",
        "colab_type": "code",
        "outputId": "e2b327d1-e13c-4fbc-e41e-a87baf685a67",
        "colab": {
          "base_uri": "https://localhost:8080/",
          "height": 119
        }
      },
      "source": [
        "#our fork of the Tessellate-Imaging image detection library\n",
        "#!rm -rf Monk_Object_Detection\n",
        "! git clone https://github.com/roboflow-ai/Monk_Object_Detection.git"
      ],
      "execution_count": 0,
      "outputs": [
        {
          "output_type": "stream",
          "text": [
            "Cloning into 'Monk_Object_Detection'...\n",
            "remote: Enumerating objects: 3702, done.\u001b[K\n",
            "remote: Total 3702 (delta 0), reused 0 (delta 0), pack-reused 3702\n",
            "Receiving objects: 100% (3702/3702), 132.08 MiB | 35.95 MiB/s, done.\n",
            "Resolving deltas: 100% (773/773), done.\n",
            "Checking out files: 100% (4031/4031), done.\n"
          ],
          "name": "stdout"
        }
      ]
    },
    {
      "cell_type": "code",
      "metadata": {
        "id": "EIu1PTPlcAuU",
        "colab_type": "code",
        "outputId": "ee3759a3-515d-479f-cfee-58db1b5ab04d",
        "colab": {
          "base_uri": "https://localhost:8080/",
          "height": 547
        }
      },
      "source": [
        "# For colab use the command below\n",
        "# Set up library requirments\n",
        "! cd Monk_Object_Detection/3_mxrcnn/installation && cat requirements_colab.txt | xargs -n 1 -L 1 pip install"
      ],
      "execution_count": 0,
      "outputs": [
        {
          "output_type": "stream",
          "text": [
            "Collecting mxnet-cu100\n",
            "\u001b[?25l  Downloading https://files.pythonhosted.org/packages/3d/84/d098e0607ee6207448b6af65315f5d45946b49e4f48160eade6cdd64ce4e/mxnet_cu100-1.5.1.post0-py2.py3-none-manylinux1_x86_64.whl (540.1MB)\n",
            "\u001b[K     |████████████████████████████████| 540.1MB 29kB/s \n",
            "\u001b[?25hRequirement already satisfied: numpy<2.0.0,>1.16.0 in /usr/local/lib/python3.6/dist-packages (from mxnet-cu100) (1.18.2)\n",
            "Requirement already satisfied: requests<3,>=2.20.0 in /usr/local/lib/python3.6/dist-packages (from mxnet-cu100) (2.21.0)\n",
            "Collecting graphviz<0.9.0,>=0.8.1\n",
            "  Downloading https://files.pythonhosted.org/packages/53/39/4ab213673844e0c004bed8a0781a0721a3f6bb23eb8854ee75c236428892/graphviz-0.8.4-py2.py3-none-any.whl\n",
            "Requirement already satisfied: urllib3<1.25,>=1.21.1 in /usr/local/lib/python3.6/dist-packages (from requests<3,>=2.20.0->mxnet-cu100) (1.24.3)\n",
            "Requirement already satisfied: certifi>=2017.4.17 in /usr/local/lib/python3.6/dist-packages (from requests<3,>=2.20.0->mxnet-cu100) (2020.4.5.1)\n",
            "Requirement already satisfied: chardet<3.1.0,>=3.0.2 in /usr/local/lib/python3.6/dist-packages (from requests<3,>=2.20.0->mxnet-cu100) (3.0.4)\n",
            "Requirement already satisfied: idna<2.9,>=2.5 in /usr/local/lib/python3.6/dist-packages (from requests<3,>=2.20.0->mxnet-cu100) (2.8)\n",
            "Installing collected packages: graphviz, mxnet-cu100\n",
            "  Found existing installation: graphviz 0.10.1\n",
            "    Uninstalling graphviz-0.10.1:\n",
            "      Successfully uninstalled graphviz-0.10.1\n",
            "Successfully installed graphviz-0.8.4 mxnet-cu100-1.5.1.post0\n",
            "Collecting dicttoxml\n",
            "  Downloading https://files.pythonhosted.org/packages/74/36/534db111db9e7610a41641a1f6669a964aacaf51858f466de264cc8dcdd9/dicttoxml-1.7.4.tar.gz\n",
            "Building wheels for collected packages: dicttoxml\n",
            "  Building wheel for dicttoxml (setup.py) ... \u001b[?25l\u001b[?25hdone\n",
            "  Created wheel for dicttoxml: filename=dicttoxml-1.7.4-cp36-none-any.whl size=17452 sha256=9e09771528dc1848a3b349adf5969697593199001d87d387f74c5d4c5e843634\n",
            "  Stored in directory: /root/.cache/pip/wheels/62/4f/a3/afd4a68f5add45a668c14efa53b64d5cffb2be6bacf993c151\n",
            "Successfully built dicttoxml\n",
            "Installing collected packages: dicttoxml\n",
            "Successfully installed dicttoxml-1.7.4\n",
            "Collecting xmltodict\n",
            "  Downloading https://files.pythonhosted.org/packages/28/fd/30d5c1d3ac29ce229f6bdc40bbc20b28f716e8b363140c26eff19122d8a5/xmltodict-0.12.0-py2.py3-none-any.whl\n",
            "Installing collected packages: xmltodict\n",
            "Successfully installed xmltodict-0.12.0\n",
            "Requirement already satisfied: pycocotools from git+https://github.com/abhi-kumar/cocoapi.git#egg=pycocotools&subdirectory=PythonAPI in /usr/local/lib/python3.6/dist-packages (2.0.0)\n"
          ],
          "name": "stdout"
        }
      ]
    },
    {
      "cell_type": "code",
      "metadata": {
        "id": "N2YxNg_6ftEC",
        "colab_type": "code",
        "outputId": "7eb7c787-202e-4a71-b147-4af993ef7d03",
        "colab": {
          "base_uri": "https://localhost:8080/",
          "height": 684
        }
      },
      "source": [
        "#fixed version of tqdm output for Colab\n",
        "!pip install --force https://github.com/chengs/tqdm/archive/colab.zip\n",
        "#IGNORE restart runtime warning, it is indeed installed\n",
        "#missing a few extra packages that we will need later! \n",
        "!pip install efficientnet_pytorch\n",
        "!pip install tensorboardX"
      ],
      "execution_count": 0,
      "outputs": [
        {
          "output_type": "stream",
          "text": [
            "Collecting https://github.com/chengs/tqdm/archive/colab.zip\n",
            "\u001b[?25l  Downloading https://github.com/chengs/tqdm/archive/colab.zip\n",
            "\u001b[K     / 327kB 9.0MB/s\n",
            "\u001b[?25hBuilding wheels for collected packages: tqdm\n",
            "  Building wheel for tqdm (setup.py) ... \u001b[?25l\u001b[?25hdone\n",
            "  Created wheel for tqdm: filename=tqdm-4.28.1-py2.py3-none-any.whl size=47867 sha256=a7ad3ced3b450bef661d14a6ab57ade886eb5fab303cea3ad8641a49cdd143e9\n",
            "  Stored in directory: /tmp/pip-ephem-wheel-cache-7a7r_9fd/wheels/41/18/ee/d5dd158441b27965855b1bbae03fa2d8a91fe645c01b419896\n",
            "Successfully built tqdm\n",
            "\u001b[31mERROR: spacy 2.2.4 has requirement tqdm<5.0.0,>=4.38.0, but you'll have tqdm 4.28.1 which is incompatible.\u001b[0m\n",
            "Installing collected packages: tqdm\n",
            "  Found existing installation: tqdm 4.38.0\n",
            "    Uninstalling tqdm-4.38.0:\n",
            "      Successfully uninstalled tqdm-4.38.0\n",
            "Successfully installed tqdm-4.28.1\n"
          ],
          "name": "stdout"
        },
        {
          "output_type": "display_data",
          "data": {
            "application/vnd.colab-display-data+json": {
              "pip_warning": {
                "packages": [
                  "tqdm"
                ]
              }
            }
          },
          "metadata": {
            "tags": []
          }
        },
        {
          "output_type": "stream",
          "text": [
            "Collecting efficientnet_pytorch\n",
            "  Downloading https://files.pythonhosted.org/packages/b8/cb/0309a6e3d404862ae4bc017f89645cf150ac94c14c88ef81d215c8e52925/efficientnet_pytorch-0.6.3.tar.gz\n",
            "Requirement already satisfied: torch in /usr/local/lib/python3.6/dist-packages (from efficientnet_pytorch) (1.4.0)\n",
            "Building wheels for collected packages: efficientnet-pytorch\n",
            "  Building wheel for efficientnet-pytorch (setup.py) ... \u001b[?25l\u001b[?25hdone\n",
            "  Created wheel for efficientnet-pytorch: filename=efficientnet_pytorch-0.6.3-cp36-none-any.whl size=12422 sha256=3e96942735543923f922c19c96b279eefcfc070e7388410254d4aef3a00a6b1c\n",
            "  Stored in directory: /root/.cache/pip/wheels/42/1e/a9/2a578ba9ad04e776e80bf0f70d8a7f4c29ec0718b92d8f6ccd\n",
            "Successfully built efficientnet-pytorch\n",
            "Installing collected packages: efficientnet-pytorch\n",
            "Successfully installed efficientnet-pytorch-0.6.3\n",
            "Collecting tensorboardX\n",
            "\u001b[?25l  Downloading https://files.pythonhosted.org/packages/35/f1/5843425495765c8c2dd0784a851a93ef204d314fc87bcc2bbb9f662a3ad1/tensorboardX-2.0-py2.py3-none-any.whl (195kB)\n",
            "\u001b[K     |████████████████████████████████| 204kB 4.0MB/s \n",
            "\u001b[?25hRequirement already satisfied: six in /usr/local/lib/python3.6/dist-packages (from tensorboardX) (1.12.0)\n",
            "Requirement already satisfied: protobuf>=3.8.0 in /usr/local/lib/python3.6/dist-packages (from tensorboardX) (3.10.0)\n",
            "Requirement already satisfied: numpy in /usr/local/lib/python3.6/dist-packages (from tensorboardX) (1.18.2)\n",
            "Requirement already satisfied: setuptools in /usr/local/lib/python3.6/dist-packages (from protobuf>=3.8.0->tensorboardX) (46.1.3)\n",
            "Installing collected packages: tensorboardX\n",
            "Successfully installed tensorboardX-2.0\n"
          ],
          "name": "stdout"
        }
      ]
    },
    {
      "cell_type": "markdown",
      "metadata": {
        "id": "8PdgWcjbc0hj",
        "colab_type": "text"
      },
      "source": [
        "# Let's get some data! \n",
        "\n",
        "The best part about Roboflow is the efficient management of your datasets. [Upload you dataset](roboflow.ai) and you will recieve a fresh curl code to ouput it in whatever augmented and annotated format you need. "
      ]
    },
    {
      "cell_type": "code",
      "metadata": {
        "id": "QK73cnbNcMey",
        "colab_type": "code",
        "outputId": "2f5ff57e-9bba-41af-844a-eaf8ad22fce4",
        "colab": {
          "base_uri": "https://localhost:8080/",
          "height": 105
        }
      },
      "source": [
        "#fresh curl courtesy of roboflow.ai, outputing our dataset in Coco Json format\n",
        "!curl -L https://public.roboflow.ai/ds/TyLp8HqTJM?key=Ew91yLZIFw | jar -x"
      ],
      "execution_count": 0,
      "outputs": [
        {
          "output_type": "stream",
          "text": [
            "  % Total    % Received % Xferd  Average Speed   Time    Time     Time  Current\n",
            "                                 Dload  Upload   Total   Spent    Left  Speed\n",
            "100   887  100   887    0     0   1114      0 --:--:-- --:--:-- --:--:--  1114\n",
            "100 8031k  100 8031k    0     0  5504k      0  0:00:01  0:00:01 --:--:-- 17.1M\n"
          ],
          "name": "stdout"
        }
      ]
    },
    {
      "cell_type": "code",
      "metadata": {
        "id": "nspgbsjTdSjZ",
        "colab_type": "code",
        "outputId": "53efc447-bc32-4e55-9ad8-434b6fc6ba41",
        "colab": {
          "base_uri": "https://localhost:8080/",
          "height": 51
        }
      },
      "source": [
        "#let's take a look at our directory\n",
        "#notice the data came down in train, valid, test, splits - this is pre set during the dataset upload process\n",
        "%ls"
      ],
      "execution_count": 0,
      "outputs": [
        {
          "output_type": "stream",
          "text": [
            "\u001b[0m\u001b[01;34mMonk_Object_Detection\u001b[0m/  README.roboflow.txt  \u001b[01;34mtest\u001b[0m/   \u001b[01;34mvalid\u001b[0m/\n",
            "README.dataset.txt      \u001b[01;34msample_data\u001b[0m/         \u001b[01;34mtrain\u001b[0m/\n"
          ],
          "name": "stdout"
        }
      ]
    },
    {
      "cell_type": "code",
      "metadata": {
        "id": "4tZCaH-bdUnP",
        "colab_type": "code",
        "outputId": "ce210eb5-4cde-4613-fc0c-f0e23279605f",
        "colab": {
          "base_uri": "https://localhost:8080/",
          "height": 1000
        }
      },
      "source": [
        "#let's take a peak in train\n",
        "#jpg images and some coco json annotations\n",
        "%ls train"
      ],
      "execution_count": 0,
      "outputs": [
        {
          "output_type": "stream",
          "text": [
            "00bc0cacffdebe6b11bdeec56f63ee49_jpg.rf.59f0f02a28f020d480fd5d1d8aa32f6d.jpg\n",
            "0115e4df73475b550e5c6f7a88b2474f_jpg.rf.dfa577bd4af5440d689046c2f48bc48e.jpg\n",
            "02f0931b536dfba10affc3231a3d64fb_jpg.rf.7daf233a70122377355a36ca33e82aa4.jpg\n",
            "0301b7f9ed4d5ba503fda79fc4370c29_jpg.rf.3ecfd27607406c9f46c1525efd39e17b.jpg\n",
            "03886821377011fec599e8fa12d86e89_jpg.rf.78d439f975872bc0120d597bd265684b.jpg\n",
            "03d3ff4582c8125d69c19a72f846bec8_jpg.rf.5f77781cbc56eff8679f258ff4f7cc9f.jpg\n",
            "040f2bcba5afce3afafdd5bbf36d2ca5_jpg.rf.fe6d0720247b60f2c6e1cda98fd00cab.jpg\n",
            "04aed88a8d23cf27e47806eb23948495_jpg.rf.4021af803b1b21022221cd3654117580.jpg\n",
            "055b79dd8db4c43e1a23be6095aaf624_jpg.rf.3eddea89d44864ecd7971d2827ee88df.jpg\n",
            "05de676d5078dc0a13796f3f627993ef_jpg.rf.70a6ddff100e5f321d7d6f8d4d977e3d.jpg\n",
            "06770ce99d4866165c0dfb104179c361_jpg.rf.e7acda724f1beddf07e9cc9ee750f3d5.jpg\n",
            "0798bfb058da59d189c1bfadcf814f29_jpg.rf.b73199953251d84e4895a862463b7964.jpg\n",
            "0b4ba28f0c759a11750a6430649b52e3_jpg.rf.c732477a7f65117e3fb24bbd7bca5b8e.jpg\n",
            "0cf670506bf9e0fe587647cd62caa232_jpg.rf.cc43d799dab21abc85a4368295867d8f.jpg\n",
            "0d9dbf62d5ee42b92bf55197bba4254d_jpg.rf.3dfbde3b99d83e88daa3b69514daa68d.jpg\n",
            "0f4512d71c096f2699d705792e88fc58_jpg.rf.0971fe35ffe3ebbcc3e2a709de978aec.jpg\n",
            "104ec0199cb67e1a359b1b0845ee66f3_jpg.rf.2148e2af0737be8e162d7d867805a8ac.jpg\n",
            "13106bbc80a01cc413c2ab5052d2ec25_jpg.rf.6fb6095088bd3962b78e22f736409ea5.jpg\n",
            "1595777dfa66e954ae23655743e24809_jpg.rf.1ce3ed024877808c7e9f12f1f83fefae.jpg\n",
            "1728cd731489df8bb8e0396e178fe393_jpg.rf.9aa607b72daa7a732ab1285f5ff96c66.jpg\n",
            "1877a28e4c5f5c1ea68aca66f4e85d95_jpg.rf.7d7dcb905c94e79222205feb915bafec.jpg\n",
            "196829feb704a34a4e471155f14bdd80_jpg.rf.7b98c9eefcd83f5cf7eea7a95e4ceba3.jpg\n",
            "1a530d578f3f0bf3497bfeff3d953025_jpg.rf.2a30081d7234f714736032af1dcb4193.jpg\n",
            "1a8a4abcba7c4ead35c01f05b9fae8e5_jpg.rf.e36b61dd77198f5d2ffd5c39645638cb.jpg\n",
            "1b4ccdf7d5ff45dc6c3885243bde5af2_jpg.rf.c0b83419aa9e3c1b3b5a9cba2b9ea579.jpg\n",
            "22e74efb18b2d88fba63d25a61bf5f97_jpg.rf.91ebc978b333aae9ba2289e894ff95c3.jpg\n",
            "23988893ef7381fece6d1ef32ef5428f_jpg.rf.5065b0683d241ad92afc074eed391b53.jpg\n",
            "239c409d5c09b493fed01a70a3cda4bc_jpg.rf.f8f5bf822dba445148cf5271f1a7e34d.jpg\n",
            "247f9cf35a263dc7dd7886b187fd5480_jpg.rf.ca7241ecf892e490f69312d56b5a6773.jpg\n",
            "254f92b18b2a81f88b85e7aed3cabc61_jpg.rf.09fc82bf7878065eb6cad223e60f7f0b.jpg\n",
            "26d663ab5ffbec49f9dc8e592982cfd4_jpg.rf.238eb82b4d50cc47759fa7ce82c43b97.jpg\n",
            "285d7c487a4e20ad832a74acb527b77f_jpg.rf.5ce3eb6a89b4c0019fde9d22a5921104.jpg\n",
            "292b0ddcacad7de06a628980954b6993_jpg.rf.3e5a330ebaead704099fbdbcee34d96f.jpg\n",
            "2c32afd520cc8bf076dfa5b6e2e1c4c1_jpg.rf.c546a535eb5f3a68ed59a794c1faeb2a.jpg\n",
            "2ee0fd0963465ba29d8f27c6e605c55d_jpg.rf.b0d9e857c9a56fc8077ea156fca40284.jpg\n",
            "2fe75c34fd54e960146fb8b0ad8b3fd6_jpg.rf.6091e6d4216ef3f71b33d14c30ec0d54.jpg\n",
            "300f80826bbb7dc4bf83e148614f2f77_jpg.rf.d2ebe06b4f53115a03fefa84f8ce7f4e.jpg\n",
            "3057eba7e9b0221ddbdc96a01f39ab79_jpg.rf.f5ca64930fd980c194483c8a3bb6a54e.jpg\n",
            "3091c9b25d76e9cbd0af83ced9f354e5_jpg.rf.d5f14cd80477f444b7ed601f609c67dd.jpg\n",
            "31419854b103ca6becc4cc394c449e95_jpg.rf.ed358e1365d7de3a15257d87752c51b9.jpg\n",
            "3161933dffedf8a859d6623a99492c53_jpg.rf.9267abfc68d9bd6af1912b5d0319f36c.jpg\n",
            "3474d785b1b21d68163f56aa00a92bc9_jpg.rf.7edb79a8e8ad56b74a670a5c43b5cf2a.jpg\n",
            "34ad1966ae7a17d4502ca141413ed8d2_jpg.rf.dd63137d1c9d6095c293b48a0b6f3334.jpg\n",
            "36066ba85572ce99198f1a21c2c8bbff_jpg.rf.1bb4689be2417ff995fbd5e22876c353.jpg\n",
            "3730ef213ac6aad431475a9ab28f349a_jpg.rf.c18235c762e398156f5a67144b46d3a9.jpg\n",
            "3796db002cba7265bd32b0161ddd9127_jpg.rf.4f039ba64a8a26531c2b2861e04cfe7a.jpg\n",
            "37fe05bcf7d8568a9e55b569afdbccbd_jpg.rf.369f4b4dbd105056aa23957cd4be1687.jpg\n",
            "383c2ed7bbe2d327ab55a871db497c33_jpg.rf.ac062d648b1833d4c5ada1dbc6052060.jpg\n",
            "389b4c47568c78c44df11dbb1377ffea_jpg.rf.1d6174519a8e98c853c57584e8cba891.jpg\n",
            "38f26ee82e38d332b2a831aa47bd363b_jpg.rf.ce772b291dcc390ce7786ed11a493495.jpg\n",
            "3914be0cea4aa8a6bbd1081ec3b034a7_jpg.rf.1a22ac976f9598278bbbf963909a32ef.jpg\n",
            "3bab0eaaeb63a2ac9ae4942df4006a25_jpg.rf.a637df4b9da83609e96c1828e1f4366b.jpg\n",
            "3e8fb24addda1a0945bd6b7777bc4018_jpg.rf.d17abcc1ddc47bcc382536d9669e3fd5.jpg\n",
            "446e75de1ffefc2115e79696bcf0e357_jpg.rf.642c290200ecf6bac85bbde223355232.jpg\n",
            "4667110b61b16e786673ed6126ccc35d_jpg.rf.775479ebec16606e8b47874da02463fb.jpg\n",
            "479459fe5c8213a84fd55ba82f2670b1_jpg.rf.c0cbd0b155916350af1e743b11766dfc.jpg\n",
            "47e842dd95735a11cf92c0ddf1161193_jpg.rf.563bd525e9210a59e275a565317b890f.jpg\n",
            "4807629b8df9c7eb4366b7feccd72e6a_jpg.rf.8586b4e2e824f8ee2e108a4a32592c9d.jpg\n",
            "4894f034a55eaa9252cd261a62b11d27_jpg.rf.bb716c1e40a670ecd703683c8dc332c0.jpg\n",
            "48d3c59a99b2b5a5b9f1eb7d5ba63b60_jpg.rf.c196233c6c25ec23958aa743163344b1.jpg\n",
            "48e115dcbf1b3a67ca47a75a92da3f33_jpg.rf.9a3c3e55cb4a229779fc06a672af0765.jpg\n",
            "4939035108d04ee672570a7cc937e270_jpg.rf.a00ea9b7a719681055868d92c1191fe4.jpg\n",
            "49c2afbbe5726160b289f7c0c62cdace_jpg.rf.88443bd77810fdde979f0d6c41bd3cc8.jpg\n",
            "49d365236ee4fb6bd982b0f00bff007e_jpg.rf.16bc32d2b40baeabec00c02b2f9d0e84.jpg\n",
            "49f78dc9aaeadd0c76ed2def75c358f3_jpg.rf.ebe11640761df4735fa11bf2516c7967.jpg\n",
            "4ab3343c9e91e56813f6c36bcac9896a_jpg.rf.959e82a0ff12d5f2276016650905b3d1.jpg\n",
            "4ae38537a74c5ed10d5223f8066659fc_jpg.rf.4fef5c4efc7522714a483c38502f21f2.jpg\n",
            "4bf38c062fa7b5796d15ba90d6c3a456_jpg.rf.47d09ca58c3f5cb00e286ed52ab6f29a.jpg\n",
            "4d6b667ecbd41ebd603b38848366d9d0_jpg.rf.29238774d80d0be8def25571c503714f.jpg\n",
            "4d7820ad9fb4fe69d5168e1d7317dd02_jpg.rf.1279c1ccceab06443a62004f2800d891.jpg\n",
            "4de23afff63bc169b4ebe547a9c9b692_jpg.rf.0cf789652d85886de3d00b05bef061eb.jpg\n",
            "4eb630d4dd38528dacf72355caf5c06d_jpg.rf.cef25bd3e5eb142ccd065e5d26049127.jpg\n",
            "53de0674524ae6d77bdfff48136dec2a_jpg.rf.aadf3edd69993569f90483c91fae1fca.jpg\n",
            "54a90aab8c73562975cc560d51a9d2d1_jpg.rf.f5700e30dc924ed32d1b7e34cff05c04.jpg\n",
            "5758322233deed7ae7adc23536db2a4f_jpg.rf.2ac5b8df5fb0e541557f79cbdd79f51a.jpg\n",
            "57def88c6de500f5f6926354b3680a13_jpg.rf.dd74421d7ddaa3ec1198e12a84a9f1dc.jpg\n",
            "5825608dccde6544eef91822136079d0_jpg.rf.62780259541cb1ed0b071c0594b71147.jpg\n",
            "59727dce26aaa6100078810b61404069_jpg.rf.7c04dbe505cf1bd214e4f491e3a395af.jpg\n",
            "5a8433ec79c881f84ef19a07dc73665d_jpg.rf.8c74727285683022959679af3c43f190.jpg\n",
            "5cecd3b3946aac5c713a51e0bd4617c9_jpg.rf.03286d3792ba33d52a3654e14735c974.jpg\n",
            "5e71cb8d41c333a18e799ef0004b040c_jpg.rf.d65a0847e82174366d01e29a636074e6.jpg\n",
            "614811e933a680fd6535ac8bf06bf530_jpg.rf.0b9ea19fb73269b21cf021c584b84aeb.jpg\n",
            "614aadadb4a7f5b475b027b8e11398ee_jpg.rf.46607639a62cb9241830db1088e145a1.jpg\n",
            "61567b97353acc18ba9e8aac0f111326_jpg.rf.5764028ed4ece48b7894801e884e111e.jpg\n",
            "6179b463c8f503445e213b706d2a4de5_jpg.rf.22c6e0d7cc69bbceddc0ed8a8b0e0bc5.jpg\n",
            "6403b91d63799cb9b5531c47b195d088_jpg.rf.cb883855985dd9bb6c6abc4cbe53fa76.jpg\n",
            "6454bd04e2829d4ff83602f0f2d7154e_jpg.rf.46c9bd543815a1c9758df61f2569524e.jpg\n",
            "6589f4cfb37439d7d276f0d70f7ee1f0_jpg.rf.e6bfa3034bc8005aaadf8ba1aca18e61.jpg\n",
            "65ba27557c78850168b1df70a3ce4ff7_jpg.rf.ef005cf77310609923ff2fb962581194.jpg\n",
            "66f3c2c7c10a9263de9c6e056ba5c1b9_jpg.rf.18efa20b29dfe94acf3cb63ccc92a4b3.jpg\n",
            "673bcd0d44f495fbe9dd88d5cacfceb3_jpg.rf.4f36394a6dc154067ad4da04cf503df8.jpg\n",
            "675619f2c8078824cfd182cec2eeba95_jpg.rf.2a121620701a980a77942a4d8e8a813c.jpg\n",
            "699edbacbfee5e6d4d6d2189bc88990a_jpg.rf.21253a833a9f17c4391a96e64b279fd9.jpg\n",
            "6ba74e310dd824af891d057d674cedb9_jpg.rf.f100b00ae7151f33ca508ed17be6e7c6.jpg\n",
            "6bb6f7cb96bf37230681d12ff7882f61_jpg.rf.b1255adcc94141477b7d089a0b9ebf42.jpg\n",
            "6f0a888f9e5aed9516e336fd04723ce1_jpg.rf.9dbcc89d91a6cada0f389a0e88ecf86b.jpg\n",
            "6f0de9b594de9f9b92c6a20daa51a28a_jpg.rf.e7362c0e232dfa07aa0eb3f52bb4fd50.jpg\n",
            "743665d7ef6ab0330e8786227f6f4051_jpg.rf.6482e654f2b3d8ecebfdaf396c741b07.jpg\n",
            "759a86e63667ca033255c4ab438dd392_jpg.rf.708d1d10d1032312cacd959485e92fa5.jpg\n",
            "76d01bada90581f55f1ae64c062cafcf_jpg.rf.82f338c5d9879e03d2a7455a585493e3.jpg\n",
            "76dbe2ccf986a2a0d399d3d8a47279ad_jpg.rf.582fa23c9cb60c607ce4039d59257eac.jpg\n",
            "76e118acf05a8ebe06957f8882cc06aa_jpg.rf.6170a8b5a9733bae0c02d0ca375bde10.jpg\n",
            "79e744a68d6e6f83be0a9e8761ea66a4_jpg.rf.d796c3ba698ebf673f0d3fc42062e20c.jpg\n",
            "7df16cd59fb40e0691948cc805e4801b_jpg.rf.87b8be301feea11509703396e6f8b8e2.jpg\n",
            "7ee8d13861bdc45e40a7cfe190a8d8a6_jpg.rf.f89633224312e1c80ce73c4e05c65051.jpg\n",
            "80c787b97ed3e2b4befd6b11aa2fba37_jpg.rf.b7e9d028eb34400c5d239b57639e086e.jpg\n",
            "81f5c542ffe0f9eae4df59d29acbcced_jpg.rf.561b8c31b527d84832e277765b20dc4d.jpg\n",
            "859e7157c6d544236a67463c08169b6e_jpg.rf.773fea93fd9593e63fedd9d27f8581a7.jpg\n",
            "8678864272a0a04c4c65ca96324105b4_jpg.rf.23c0e1b2c040efd89095760e27f28eaa.jpg\n",
            "871597c145446cf58c1c2dd7db988864_jpg.rf.dfe014e3493447cc19e30bb97c00239a.jpg\n",
            "889c420fb266b8d0e817306110042bda_jpg.rf.187d72f3d58f732ea576641f5c702f61.jpg\n",
            "8967433350d3b3043902603430fccaab_jpg.rf.b3b6e9ca2da2674266a7d44c368a3953.jpg\n",
            "8bb72e70f0560095885586deba37a524_jpg.rf.addedc80f989194e077b8c53871457b8.jpg\n",
            "8d6f722eadc015a393bd490f9b7a85e6_jpg.rf.651f72c0d06342bd6e79bff0aeea8fd2.jpg\n",
            "8d796de64b9eed1ffd5ebe550d4ca807_jpg.rf.7a9a939f45b77b1804da67fbb088c795.jpg\n",
            "8dd12470c30e3b265e8933a6fee7ad28_jpg.rf.84b8584b870b790d4f5d40bdd24c1af4.jpg\n",
            "8de03901c64a80070048ead3fb0d32bd_jpg.rf.a81d5c2674e7d68b2245ef7725a87fac.jpg\n",
            "8f84f1945fd993facc3368d13345f333_jpg.rf.b190d526f930a1e6e0c8568294cd2837.jpg\n",
            "8ff64b3f770bfe96bdffc629efd16460_jpg.rf.b56392e0638bcb50479d4e74dad8ac8a.jpg\n",
            "9146a6989dac08f1769e677064ebfb49_jpg.rf.adc60b60fd2041dbb3102a4561edf7b6.jpg\n",
            "92992ff9c823e0420bf17e71db9ef4ef_jpg.rf.a9c86b7daee5c7b1977507f760cdd7e8.jpg\n",
            "93557fc861304f7753089c244bc1e33e_jpg.rf.ffbb0460f28c29ea6c2f0e5ff165550c.jpg\n",
            "9504fb6b81031feac1fbf1e128b5c173_jpg.rf.e4e7ce142edc55c73267abbe60ec69b3.jpg\n",
            "969daa72bd7804ea1212e191820249b0_jpg.rf.42fdf983653232bcccbca70f94cbfac4.jpg\n",
            "97aeb1f9b745a929e9ac0848acb53a1a_jpg.rf.5997f0ef95b45103711d4fdc239c2691.jpg\n",
            "9962a4d44388b9008aa0f466e4f4052c_jpg.rf.b2b9e1236e560e47019df29344b0cc10.jpg\n",
            "998222d9c93f1640829d4f0032dbf3e8_jpg.rf.dfdbeef166796c8f4327b3a456ca1cfe.jpg\n",
            "99ee6574b2a7afc0bb06269bbcf49a4c_jpg.rf.693e8999d9c962ab16c457b2225359f0.jpg\n",
            "9a6b61a6d3b3e3ecddc201b097aa02d1_jpg.rf.3903667901a40aedda2c42c43502d96b.jpg\n",
            "9c153a9c9798dab948d4260eb109b315_jpg.rf.04a431391f78af71e5ebaf9d51d91faf.jpg\n",
            "9c5fb0c3cfd7b334a247cd87c139e8e6_jpg.rf.e515316111e554f86ea49e12faeda7a4.jpg\n",
            "9d776e74e90c4f8092b060dd7567e2f8_jpg.rf.5d6deb8a1e7a40c616186a7b90f48c2b.jpg\n",
            "9e943906fba1ec89edfacb2dd7976504_jpg.rf.9702132e48df03814384024ca7313212.jpg\n",
            "9fc54a45feb5b01db8f6828d181fb075_jpg.rf.c78f29bbe2df51ae862c73f5cca0eebd.jpg\n",
            "a20eb4bb3cea2e394cfcf9ed969b628e_jpg.rf.abd0f3c626fca3ba6c4111d4fbf656ab.jpg\n",
            "a4028b2361ce7ead654a86b07ac39d52_jpg.rf.4300592f959cf20135ac198003615490.jpg\n",
            "a4ebf4c268d80c4fe329331ea981b3a1_jpg.rf.a15a2e6dfb1ce2864f46f69bb0c54795.jpg\n",
            "a5c65b40e0be3480c0ecfacaab399a87_jpg.rf.65826955144870ecaf37db65ef6532ae.jpg\n",
            "a8847f8fe8eaaa1c97bf83027a901760_jpg.rf.26afc5ee5c983fe73c8e113e99127fa9.jpg\n",
            "a932287da44b9dfacd0d16a5c1d27923_jpg.rf.5d4b7b1e6f3b0033a85c6fa52a0dbeef.jpg\n",
            "a9768de3fceeeae2618f362870fb9a88_jpg.rf.f08a04590fba92deafdb3def03e97c44.jpg\n",
            "a9987cf6cc5c6545818ec294d4a5bb9b_jpg.rf.95a5bb9f3138fe997ff8faa21a85436f.jpg\n",
            "_annotations.coco.json\n",
            "b0f3d66c8be13f5f6aa25b67a06bdcfa_jpg.rf.01b3f3243bf31cb2ea18a89fd58044be.jpg\n",
            "b3b002461f1c6b432e22964549767e5f_jpg.rf.46f0298de88abcc93f279274d84d6b6b.jpg\n",
            "b5102d7f9740eee7754ed268becb2163_jpg.rf.d4a8cfe5fa4d0f53d73c64b07ebabbce.jpg\n",
            "b5bcde459ca36f0d1f3c20e751336672_jpg.rf.667ee729363a8d60c926d9dd3734bf2f.jpg\n",
            "b79ae5b70de58089ead6e32b235e30d3_jpg.rf.87a4a8323a2c39c2f925c7987a01d1b6.jpg\n",
            "b7a8c7de4fe1382d69f58ac97e819b5c_jpg.rf.7b795ae14bd822803c9f193def40e3ef.jpg\n",
            "bb54af2f0b83b174aecc29328c8fa001_jpg.rf.3224d475bfa4e44af5b808c58d411c4d.jpg\n",
            "bc5decab88861286dcf78a367b4377cb_jpg.rf.99264d2583f17e6ba8a7b2e15c54271a.jpg\n",
            "beb11566e59775b61f0ca369952067cc_jpg.rf.f2f174dcc0acd5991b822c5ca1a6735a.jpg\n",
            "c0d68e012bb93c14bc333fc1d5e52621_jpg.rf.60fc27683bf9457b110251dbc3bb7c4b.jpg\n",
            "c3e3b51f63d344be346e6e425f30f87a_jpg.rf.f88e789167d309e0381aa2c9d4a6e322.jpg\n",
            "c3e9e81ba1540aae7961a4d8d96600ba_jpg.rf.65c56919cca14d00fbe5d2d44ec569de.jpg\n",
            "c46bf04050a2a9323dfe563e8813602f_jpg.rf.4da1d855a20ec2d0deff03a46d8363c9.jpg\n",
            "c733616ab773817dd1a356dbbdf2ee33_jpg.rf.a3c3194c8e748b8ab26858a2646ba856.jpg\n",
            "c76c79e40bd9839a05237934cfa89ca3_jpg.rf.498d8fcd0acd71952f9d92708b360fac.jpg\n",
            "c7890b749d14d3488066cbdfac4620fd_jpg.rf.3850673b2781e44e1a293fe12a9cde12.jpg\n",
            "ca869123d8a0cbcc6e54f4a445e5a78a_jpg.rf.882d99242b6bdb27680eadd4a5904cb2.jpg\n",
            "cae099fe41d6aa30033d71e433c33c8d_jpg.rf.124529e05c30bf412475f20b8f274f95.jpg\n",
            "ce54969567273b9b8a275812ff56e16c_jpg.rf.59df2edfb1d3ece93a0939c27e2ed384.jpg\n",
            "cf2784fa97151d5316b2961b1e62dc45_jpg.rf.af04872f77bc32d96852b458e1b3597d.jpg\n",
            "d079f4e77b2445abceca7534356db743_jpg.rf.463c6a4e369b2ffc0baaef7ebb4a68a2.jpg\n",
            "d0cc2420bce5b14dfd39e55dc3737e57_jpg.rf.0f1c927870242d0e614bd6e320f9969e.jpg\n",
            "d29148a2233950a7777285281cbfccff_jpg.rf.2e63366f947507e0735a25d532caaa54.jpg\n",
            "d33c33de41dbe1a95a43212c58fd12b7_jpg.rf.fca260fa864f5898d61bee78b5f152e1.jpg\n",
            "d3a4e1b8f13ef89f419251f5c5839d0d_jpg.rf.e4b5ce214ea2670fa96ab949aec57dcc.jpg\n",
            "d415969922564f317be0d1433330626f_jpg.rf.ec44988c2ee838f90f37cc64ea149905.jpg\n",
            "d494cb268ad7f9f55587de138edc1dc4_jpg.rf.a61a3722fe947a9e22034acaaff19a8b.jpg\n",
            "d67b5b9e900409b050dd9bd594f90709_jpg.rf.7559a07ac3b4029a5a287b4b7b96ea37.jpg\n",
            "d795f84f39716798482fb2937868ed8a_jpg.rf.714951561ee3a485ad7bb06fe4377bf5.jpg\n",
            "d9acc69c5d57623cda22786e309201c9_jpg.rf.dc4a82120ade321eeae8146c917e3109.jpg\n",
            "dd6b5c3cb2d7e77f38f1dfeb2bff0431_jpg.rf.065f8833508d101a1f1449e8fbabc314.jpg\n",
            "dda052fc8dbcce6154d6874a663743eb_jpg.rf.5f2765d09b2e90e6a1d5a629a006e6ac.jpg\n",
            "ddad9dc4d945006d66f5349d64498559_jpg.rf.3d6e55223a3ce985572a9e46d7c6a9f8.jpg\n",
            "de60ba81aa78387928e4bdc11f3be301_jpg.rf.e7b8966eca79a6758f9f2eedfcf1177c.jpg\n",
            "e40003d4bbcdac7196b9502bfe2fb6ed_jpg.rf.67e2013fa9dd32e5a94dc926ddabfd35.jpg\n",
            "e4209b257f3706992c059c836cc42ec7_jpg.rf.ed76056e3061801af1c2cdf46bea57fc.jpg\n",
            "e6e3a2ff2c75970490079f00136885ad_jpg.rf.2733f54e2f320fbc9c5e0058c731d765.jpg\n",
            "e79deba8fe520409790b601ad61da4ee_jpg.rf.016bc04dee292f80d1f975931f32bc21.jpg\n",
            "e8480d7fb9881d8a0e88b7be4d103f6d_jpg.rf.2bc6fa7acb94ff9b2993d2de0c7def9e.jpg\n",
            "ea799d77875c399618c45cd9409f34ee_jpg.rf.316738a20243cf9a9a408b56ccaa5616.jpg\n",
            "eb9e7928e756c3cf9164e7afc08c4653_jpg.rf.48f982d13896a1d8c0c7a566cdde2129.jpg\n",
            "ec4c30d88ecc70b6a3e76dbd9b17324a_jpg.rf.da4ab525f8d9b96b4de4067bd6694cbb.jpg\n",
            "ec5ab1930d6aa16fff2582b48f82cada_jpg.rf.ab0666b98c1ed6aed1a7a268fdb79ec6.jpg\n",
            "edd285915356686fb53fb52c1ded0e53_jpg.rf.9e9b27a0d423c4ec63e6e1dd825d8ced.jpg\n",
            "ef1d425fd5370fbf8b7adea43b755304_jpg.rf.509cd10372ad2fe7def2c49881348306.jpg\n",
            "f02d615907c77dc15f02bd1372e4398f_jpg.rf.b46e520760107eb69d290ac810d8e1aa.jpg\n",
            "f041d3171dfe3137390c85fc5437e447_jpg.rf.8814a03f0ba5cf32468d13ff688c5594.jpg\n",
            "f1ea0167087976926d4fe0aa36b961ce_jpg.rf.ab4d245320384c2d04ba6e9ba6a652ec.jpg\n",
            "f2672cdc28767484b556da3ab6f1003e_jpg.rf.7d0badf9505f1655f0561107d11a19f1.jpg\n",
            "f3302c754c6fd42130014199ee327d10_jpg.rf.56672ccf94cd354a96888ca0e8a8e4e0.jpg\n",
            "f3a5df526393445c6e2d38f66c1f5c27_jpg.rf.09aeba93cdea53cc6a6db62f6056ec35.jpg\n",
            "f3e64e9dd12b65b941c142d142b33ef5_jpg.rf.a9db857ababa4d01d03eb09a527d29fc.jpg\n",
            "f5231f940bcf1527ef8bb8e46ac0532b_jpg.rf.5d8200f918b607f7dbc41c8533095e41.jpg\n",
            "f52e1873b8583f8bf4f7ddf6e9649f07_jpg.rf.e9f936cd405597e058a5d399d094078d.jpg\n",
            "f587402be410b424bcbbac06e1dc6162_jpg.rf.7181098acae97a248bfa1d0586a3db69.jpg\n",
            "f9a9a175f26d4b26bca3a5338cc1405e_jpg.rf.378f0d92128b1608bc48d47324f380b4.jpg\n",
            "fa3cf2724c1648a8822b59ac0759475f_jpg.rf.3ad41d095557e6bfb446af5de5553e75.jpg\n",
            "fa4e2b9a8cf58f405f69a56c662834f2_jpg.rf.2ac2e858d136ce51bcecdc1129187214.jpg\n",
            "fb586797e8ad818c7e3e3a6411f73d84_jpg.rf.52352f51cdef2f343756ef296af65d9e.jpg\n",
            "fc9d7bc0453cb3324406401c00224d30_jpg.rf.c596d992843d8a35d80cadf5489e0770.jpg\n"
          ],
          "name": "stdout"
        }
      ]
    },
    {
      "cell_type": "code",
      "metadata": {
        "id": "ArXUsWVwdbdQ",
        "colab_type": "code",
        "colab": {}
      },
      "source": [
        "#let's take a peek at the annotations\n",
        "#class categories, and bounding boxes are provided for our train set\n",
        "%pycat train/_annotations.coco.json"
      ],
      "execution_count": 0,
      "outputs": []
    },
    {
      "cell_type": "code",
      "metadata": {
        "id": "5DtDu-7Hlk_O",
        "colab_type": "code",
        "colab": {}
      },
      "source": [
        "#in the next three cells, we move the data into a structure that the image detection library will be expecting\n",
        "#but no file data manipulation is necessary\n",
        "#images can also be segmented into class folders, but we combine all classes here\n",
        "!mkdir Chess\n",
        "!mkdir Chess/annotations\n",
        "!mkdir Chess/Annotations\n",
        "!mkdir Chess/Images"
      ],
      "execution_count": 0,
      "outputs": []
    },
    {
      "cell_type": "code",
      "metadata": {
        "id": "3uZzGiw_mrRI",
        "colab_type": "code",
        "colab": {}
      },
      "source": [
        "%cp train/_annotations.coco.json Chess/annotations/instances_Images.json"
      ],
      "execution_count": 0,
      "outputs": []
    },
    {
      "cell_type": "code",
      "metadata": {
        "id": "NLzZXkkhrvx4",
        "colab_type": "code",
        "colab": {}
      },
      "source": [
        "%cp train/*.jpg Chess/Images/"
      ],
      "execution_count": 0,
      "outputs": []
    },
    {
      "cell_type": "markdown",
      "metadata": {
        "id": "wBi3RS1_fd4N",
        "colab_type": "text"
      },
      "source": [
        "# Training\n",
        "\n",
        "In this section we set up the efficientDet-d0 model from backbone and train to our custom case"
      ]
    },
    {
      "cell_type": "code",
      "metadata": {
        "id": "Fvfo6x7Vdw6i",
        "colab_type": "code",
        "colab": {}
      },
      "source": [
        "import os\n",
        "import sys\n",
        "sys.path.append(\"Monk_Object_Detection/4_efficientdet/lib/\");"
      ],
      "execution_count": 0,
      "outputs": []
    },
    {
      "cell_type": "code",
      "metadata": {
        "id": "21o9flNqfP-8",
        "colab_type": "code",
        "colab": {}
      },
      "source": [
        "from train_detector import Detector"
      ],
      "execution_count": 0,
      "outputs": []
    },
    {
      "cell_type": "code",
      "metadata": {
        "id": "c35tC0dCfoky",
        "colab_type": "code",
        "colab": {}
      },
      "source": [
        "gtf = Detector();"
      ],
      "execution_count": 0,
      "outputs": []
    },
    {
      "cell_type": "code",
      "metadata": {
        "id": "aYKeGqpqgvN4",
        "colab_type": "code",
        "colab": {}
      },
      "source": [
        "#directs the model towards file structure\n",
        "root_dir = \"./\";\n",
        "coco_dir = \"Chess\";\n",
        "img_dir = \"./\";\n",
        "set_dir = \"Images\";"
      ],
      "execution_count": 0,
      "outputs": []
    },
    {
      "cell_type": "code",
      "metadata": {
        "id": "T6epk9-HkBwJ",
        "colab_type": "code",
        "outputId": "65f69e1f-a5a0-431a-eb58-10d9dce5a0dc",
        "colab": {
          "base_uri": "https://localhost:8080/",
          "height": 85
        }
      },
      "source": [
        "#smells like some free compute from Colab, nice\n",
        "gtf.Train_Dataset(root_dir, coco_dir, img_dir, set_dir, batch_size=8, image_size=512, use_gpu=True)"
      ],
      "execution_count": 0,
      "outputs": [
        {
          "output_type": "stream",
          "text": [
            "loading annotations into memory...\n",
            "Done (t=0.01s)\n",
            "creating index...\n",
            "index created!\n"
          ],
          "name": "stdout"
        }
      ]
    },
    {
      "cell_type": "code",
      "metadata": {
        "id": "O0-xLOmisU9P",
        "colab_type": "code",
        "outputId": "049a6545-3d09-46e0-a8a8-a714dd1efbdc",
        "colab": {
          "base_uri": "https://localhost:8080/",
          "height": 106
        }
      },
      "source": [
        "gtf.Model();"
      ],
      "execution_count": 0,
      "outputs": [
        {
          "output_type": "stream",
          "text": [
            "Downloading: \"https://github.com/lukemelas/EfficientNet-PyTorch/releases/download/1.0/efficientnet-b0-355c32eb.pth\" to /root/.cache/torch/checkpoints/efficientnet-b0-355c32eb.pth\n"
          ],
          "name": "stderr"
        },
        {
          "output_type": "display_data",
          "data": {
            "text/html": [
              "<div style=\"display:flex;flex-direction:row;\"><span></span><progress style='margin:2px 4px;' max='21388428' value='21388428'></progress>100% 20.4M/20.4M [00:00&lt;00:00, 23.1MB/s]</div>"
            ],
            "text/plain": [
              "<tqdm._fake_ipywidgets.HBox object>"
            ]
          },
          "metadata": {
            "tags": []
          }
        },
        {
          "output_type": "stream",
          "text": [
            "\n",
            "Loaded pretrained weights for efficientnet-b0\n"
          ],
          "name": "stdout"
        }
      ]
    },
    {
      "cell_type": "code",
      "metadata": {
        "id": "y3XsPHdxsXsH",
        "colab_type": "code",
        "colab": {}
      },
      "source": [
        "gtf.Set_Hyperparams(lr=0.0001, val_interval=1, es_min_delta=0.0, es_patience=0)"
      ],
      "execution_count": 0,
      "outputs": []
    },
    {
      "cell_type": "code",
      "metadata": {
        "id": "d7vtQ28fsc9K",
        "colab_type": "code",
        "outputId": "b491f2f0-e176-4458-d1b9-2330db642ffe",
        "colab": {
          "base_uri": "https://localhost:8080/",
          "height": 1000
        }
      },
      "source": [
        "gtf.Train(num_epochs=100, model_output_dir=\"trained/\");"
      ],
      "execution_count": 0,
      "outputs": [
        {
          "output_type": "display_data",
          "data": {
            "text/html": [
              "<div style=\"display:flex;flex-direction:row;\"><span>Epoch: 1/100. Iteration: 25/25. Cls loss: 1.10869. Reg loss: 0.79257. Batch loss: 1.90126 Total loss: 1.87521</span><progress style='margin:2px 4px;description_width:initial;' max='25' value='25'></progress>100% 25/25 [00:10&lt;00:00,  2.92it/s]</div>"
            ],
            "text/plain": [
              "<tqdm._fake_ipywidgets.HBox object>"
            ]
          },
          "metadata": {
            "tags": []
          }
        },
        {
          "output_type": "stream",
          "text": [
            "\n"
          ],
          "name": "stdout"
        },
        {
          "output_type": "stream",
          "text": [
            "Monk_Object_Detection/4_efficientdet/lib/src/model.py:251: TracerWarning: Converting a tensor to a Python index might cause the trace to be incorrect. We can't record the data flow of Python values, so this value will be treated as a constant in the future. This means that the trace might not generalize to other inputs!\n",
            "  if len(inputs) == 2:\n",
            "Monk_Object_Detection/4_efficientdet/lib/src/utils.py:84: TracerWarning: Converting a tensor to a Python integer might cause the trace to be incorrect. We can't record the data flow of Python values, so this value will be treated as a constant in the future. This means that the trace might not generalize to other inputs!\n",
            "  image_shape = np.array(image_shape)\n",
            "Monk_Object_Detection/4_efficientdet/lib/src/utils.py:96: TracerWarning: torch.from_numpy results are registered as constants in the trace. You can safely ignore this warning if you use this function to create tensors out of constant variables that would be the same every time you call this function. In any other case, this might cause the trace to be incorrect.\n",
            "  anchors = torch.from_numpy(all_anchors.astype(np.float32))\n",
            "Monk_Object_Detection/4_efficientdet/lib/src/utils.py:57: TracerWarning: There are 3 live references to the data region being modified when tracing in-place operator copy_ (possibly due to an assignment). This might cause the trace to be incorrect, because all other views that also reference this data will not reflect this change in the trace! On the other hand, if all other views use the same memory chunk, but are disjoint (e.g. are outputs of torch.split), this might still be safe.\n",
            "  boxes[:, :, 0] = torch.clamp(boxes[:, :, 0], min=0)\n",
            "Monk_Object_Detection/4_efficientdet/lib/src/utils.py:58: TracerWarning: There are 4 live references to the data region being modified when tracing in-place operator copy_ (possibly due to an assignment). This might cause the trace to be incorrect, because all other views that also reference this data will not reflect this change in the trace! On the other hand, if all other views use the same memory chunk, but are disjoint (e.g. are outputs of torch.split), this might still be safe.\n",
            "  boxes[:, :, 1] = torch.clamp(boxes[:, :, 1], min=0)\n",
            "Monk_Object_Detection/4_efficientdet/lib/src/utils.py:60: TracerWarning: There are 5 live references to the data region being modified when tracing in-place operator copy_ (possibly due to an assignment). This might cause the trace to be incorrect, because all other views that also reference this data will not reflect this change in the trace! On the other hand, if all other views use the same memory chunk, but are disjoint (e.g. are outputs of torch.split), this might still be safe.\n",
            "  boxes[:, :, 2] = torch.clamp(boxes[:, :, 2], max=width)\n",
            "Monk_Object_Detection/4_efficientdet/lib/src/utils.py:61: TracerWarning: There are 6 live references to the data region being modified when tracing in-place operator copy_ (possibly due to an assignment). This might cause the trace to be incorrect, because all other views that also reference this data will not reflect this change in the trace! On the other hand, if all other views use the same memory chunk, but are disjoint (e.g. are outputs of torch.split), this might still be safe.\n",
            "  boxes[:, :, 3] = torch.clamp(boxes[:, :, 3], max=height)\n",
            "Monk_Object_Detection/4_efficientdet/lib/src/model.py:282: TracerWarning: Converting a tensor to a Python boolean might cause the trace to be incorrect. We can't record the data flow of Python values, so this value will be treated as a constant in the future. This means that the trace might not generalize to other inputs!\n",
            "  if scores_over_thresh.sum() == 0:\n"
          ],
          "name": "stderr"
        },
        {
          "output_type": "display_data",
          "data": {
            "text/html": [
              "<div style=\"display:flex;flex-direction:row;\"><span>Epoch: 2/100. Iteration: 25/25. Cls loss: 0.55838. Reg loss: 0.74340. Batch loss: 1.30178 Total loss: 1.40808</span><progress style='margin:2px 4px;description_width:initial;' max='25' value='25'></progress>100% 25/25 [00:10&lt;00:00,  2.91it/s]</div>"
            ],
            "text/plain": [
              "<tqdm._fake_ipywidgets.HBox object>"
            ]
          },
          "metadata": {
            "tags": []
          }
        },
        {
          "output_type": "stream",
          "text": [
            "\n"
          ],
          "name": "stdout"
        },
        {
          "output_type": "display_data",
          "data": {
            "text/html": [
              "<div style=\"display:flex;flex-direction:row;\"><span>Epoch: 3/100. Iteration: 25/25. Cls loss: 0.51189. Reg loss: 0.54844. Batch loss: 1.06033 Total loss: 1.22626</span><progress style='margin:2px 4px;description_width:initial;' max='25' value='25'></progress>100% 25/25 [00:10&lt;00:00,  2.91it/s]</div>"
            ],
            "text/plain": [
              "<tqdm._fake_ipywidgets.HBox object>"
            ]
          },
          "metadata": {
            "tags": []
          }
        },
        {
          "output_type": "stream",
          "text": [
            "\n"
          ],
          "name": "stdout"
        },
        {
          "output_type": "display_data",
          "data": {
            "text/html": [
              "<div style=\"display:flex;flex-direction:row;\"><span>Epoch: 4/100. Iteration: 25/25. Cls loss: 0.42825. Reg loss: 0.52219. Batch loss: 0.95044 Total loss: 0.95655</span><progress style='margin:2px 4px;description_width:initial;' max='25' value='25'></progress>100% 25/25 [00:10&lt;00:00,  2.92it/s]</div>"
            ],
            "text/plain": [
              "<tqdm._fake_ipywidgets.HBox object>"
            ]
          },
          "metadata": {
            "tags": []
          }
        },
        {
          "output_type": "stream",
          "text": [
            "\n"
          ],
          "name": "stdout"
        },
        {
          "output_type": "display_data",
          "data": {
            "text/html": [
              "<div style=\"display:flex;flex-direction:row;\"><span>Epoch: 5/100. Iteration: 25/25. Cls loss: 0.32377. Reg loss: 0.37023. Batch loss: 0.69401 Total loss: 0.87885</span><progress style='margin:2px 4px;description_width:initial;' max='25' value='25'></progress>100% 25/25 [00:10&lt;00:00,  2.93it/s]</div>"
            ],
            "text/plain": [
              "<tqdm._fake_ipywidgets.HBox object>"
            ]
          },
          "metadata": {
            "tags": []
          }
        },
        {
          "output_type": "stream",
          "text": [
            "\n"
          ],
          "name": "stdout"
        },
        {
          "output_type": "display_data",
          "data": {
            "text/html": [
              "<div style=\"display:flex;flex-direction:row;\"><span>Epoch: 6/100. Iteration: 25/25. Cls loss: 0.27933. Reg loss: 0.38806. Batch loss: 0.66739 Total loss: 0.75490</span><progress style='margin:2px 4px;description_width:initial;' max='25' value='25'></progress>100% 25/25 [00:10&lt;00:00,  2.91it/s]</div>"
            ],
            "text/plain": [
              "<tqdm._fake_ipywidgets.HBox object>"
            ]
          },
          "metadata": {
            "tags": []
          }
        },
        {
          "output_type": "stream",
          "text": [
            "\n"
          ],
          "name": "stdout"
        },
        {
          "output_type": "display_data",
          "data": {
            "text/html": [
              "<div style=\"display:flex;flex-direction:row;\"><span>Epoch: 7/100. Iteration: 25/25. Cls loss: 0.29245. Reg loss: 0.34386. Batch loss: 0.63631 Total loss: 0.72009</span><progress style='margin:2px 4px;description_width:initial;' max='25' value='25'></progress>100% 25/25 [00:10&lt;00:00,  2.95it/s]</div>"
            ],
            "text/plain": [
              "<tqdm._fake_ipywidgets.HBox object>"
            ]
          },
          "metadata": {
            "tags": []
          }
        },
        {
          "output_type": "stream",
          "text": [
            "\n"
          ],
          "name": "stdout"
        },
        {
          "output_type": "display_data",
          "data": {
            "text/html": [
              "<div style=\"display:flex;flex-direction:row;\"><span>Epoch: 8/100. Iteration: 25/25. Cls loss: 0.28483. Reg loss: 0.30285. Batch loss: 0.58768 Total loss: 0.66409</span><progress style='margin:2px 4px;description_width:initial;' max='25' value='25'></progress>100% 25/25 [00:10&lt;00:00,  2.96it/s]</div>"
            ],
            "text/plain": [
              "<tqdm._fake_ipywidgets.HBox object>"
            ]
          },
          "metadata": {
            "tags": []
          }
        },
        {
          "output_type": "stream",
          "text": [
            "\n"
          ],
          "name": "stdout"
        },
        {
          "output_type": "display_data",
          "data": {
            "text/html": [
              "<div style=\"display:flex;flex-direction:row;\"><span>Epoch: 9/100. Iteration: 25/25. Cls loss: 0.24602. Reg loss: 0.27679. Batch loss: 0.52281 Total loss: 0.59380</span><progress style='margin:2px 4px;description_width:initial;' max='25' value='25'></progress>100% 25/25 [00:10&lt;00:00,  2.94it/s]</div>"
            ],
            "text/plain": [
              "<tqdm._fake_ipywidgets.HBox object>"
            ]
          },
          "metadata": {
            "tags": []
          }
        },
        {
          "output_type": "stream",
          "text": [
            "\n"
          ],
          "name": "stdout"
        },
        {
          "output_type": "display_data",
          "data": {
            "text/html": [
              "<div style=\"display:flex;flex-direction:row;\"><span>Epoch: 10/100. Iteration: 25/25. Cls loss: 0.26444. Reg loss: 0.31785. Batch loss: 0.58229 Total loss: 0.55376</span><progress style='margin:2px 4px;description_width:initial;' max='25' value='25'></progress>100% 25/25 [00:10&lt;00:00,  2.95it/s]</div>"
            ],
            "text/plain": [
              "<tqdm._fake_ipywidgets.HBox object>"
            ]
          },
          "metadata": {
            "tags": []
          }
        },
        {
          "output_type": "stream",
          "text": [
            "\n"
          ],
          "name": "stdout"
        },
        {
          "output_type": "display_data",
          "data": {
            "text/html": [
              "<div style=\"display:flex;flex-direction:row;\"><span>Epoch: 11/100. Iteration: 25/25. Cls loss: 0.21976. Reg loss: 0.26661. Batch loss: 0.48637 Total loss: 0.51511</span><progress style='margin:2px 4px;description_width:initial;' max='25' value='25'></progress>100% 25/25 [00:10&lt;00:00,  2.95it/s]</div>"
            ],
            "text/plain": [
              "<tqdm._fake_ipywidgets.HBox object>"
            ]
          },
          "metadata": {
            "tags": []
          }
        },
        {
          "output_type": "stream",
          "text": [
            "\n"
          ],
          "name": "stdout"
        },
        {
          "output_type": "display_data",
          "data": {
            "text/html": [
              "<div style=\"display:flex;flex-direction:row;\"><span>Epoch: 12/100. Iteration: 25/25. Cls loss: 0.23828. Reg loss: 0.31227. Batch loss: 0.55056 Total loss: 0.49720</span><progress style='margin:2px 4px;description_width:initial;' max='25' value='25'></progress>100% 25/25 [00:10&lt;00:00,  2.93it/s]</div>"
            ],
            "text/plain": [
              "<tqdm._fake_ipywidgets.HBox object>"
            ]
          },
          "metadata": {
            "tags": []
          }
        },
        {
          "output_type": "stream",
          "text": [
            "\n"
          ],
          "name": "stdout"
        },
        {
          "output_type": "display_data",
          "data": {
            "text/html": [
              "<div style=\"display:flex;flex-direction:row;\"><span>Epoch: 13/100. Iteration: 25/25. Cls loss: 0.19872. Reg loss: 0.23162. Batch loss: 0.43034 Total loss: 0.47915</span><progress style='margin:2px 4px;description_width:initial;' max='25' value='25'></progress>100% 25/25 [00:10&lt;00:00,  2.98it/s]</div>"
            ],
            "text/plain": [
              "<tqdm._fake_ipywidgets.HBox object>"
            ]
          },
          "metadata": {
            "tags": []
          }
        },
        {
          "output_type": "stream",
          "text": [
            "\n"
          ],
          "name": "stdout"
        },
        {
          "output_type": "display_data",
          "data": {
            "text/html": [
              "<div style=\"display:flex;flex-direction:row;\"><span>Epoch: 14/100. Iteration: 25/25. Cls loss: 0.16744. Reg loss: 0.24984. Batch loss: 0.41727 Total loss: 0.43669</span><progress style='margin:2px 4px;description_width:initial;' max='25' value='25'></progress>100% 25/25 [00:10&lt;00:00,  2.99it/s]</div>"
            ],
            "text/plain": [
              "<tqdm._fake_ipywidgets.HBox object>"
            ]
          },
          "metadata": {
            "tags": []
          }
        },
        {
          "output_type": "stream",
          "text": [
            "\n"
          ],
          "name": "stdout"
        },
        {
          "output_type": "display_data",
          "data": {
            "text/html": [
              "<div style=\"display:flex;flex-direction:row;\"><span>Epoch: 15/100. Iteration: 25/25. Cls loss: 0.19384. Reg loss: 0.18954. Batch loss: 0.38338 Total loss: 0.40371</span><progress style='margin:2px 4px;description_width:initial;' max='25' value='25'></progress>100% 25/25 [00:10&lt;00:00,  2.95it/s]</div>"
            ],
            "text/plain": [
              "<tqdm._fake_ipywidgets.HBox object>"
            ]
          },
          "metadata": {
            "tags": []
          }
        },
        {
          "output_type": "stream",
          "text": [
            "\n"
          ],
          "name": "stdout"
        },
        {
          "output_type": "display_data",
          "data": {
            "text/html": [
              "<div style=\"display:flex;flex-direction:row;\"><span>Epoch: 16/100. Iteration: 25/25. Cls loss: 0.21694. Reg loss: 0.20460. Batch loss: 0.42154 Total loss: 0.40770</span><progress style='margin:2px 4px;description_width:initial;' max='25' value='25'></progress>100% 25/25 [00:10&lt;00:00,  2.94it/s]</div>"
            ],
            "text/plain": [
              "<tqdm._fake_ipywidgets.HBox object>"
            ]
          },
          "metadata": {
            "tags": []
          }
        },
        {
          "output_type": "stream",
          "text": [
            "\n"
          ],
          "name": "stdout"
        },
        {
          "output_type": "display_data",
          "data": {
            "text/html": [
              "<div style=\"display:flex;flex-direction:row;\"><span>Epoch: 17/100. Iteration: 25/25. Cls loss: 0.16972. Reg loss: 0.27222. Batch loss: 0.44194 Total loss: 0.37845</span><progress style='margin:2px 4px;description_width:initial;' max='25' value='25'></progress>100% 25/25 [00:10&lt;00:00,  2.95it/s]</div>"
            ],
            "text/plain": [
              "<tqdm._fake_ipywidgets.HBox object>"
            ]
          },
          "metadata": {
            "tags": []
          }
        },
        {
          "output_type": "stream",
          "text": [
            "\n"
          ],
          "name": "stdout"
        },
        {
          "output_type": "display_data",
          "data": {
            "text/html": [
              "<div style=\"display:flex;flex-direction:row;\"><span>Epoch: 18/100. Iteration: 25/25. Cls loss: 0.17951. Reg loss: 0.19743. Batch loss: 0.37693 Total loss: 0.36996</span><progress style='margin:2px 4px;description_width:initial;' max='25' value='25'></progress>100% 25/25 [00:10&lt;00:00,  2.94it/s]</div>"
            ],
            "text/plain": [
              "<tqdm._fake_ipywidgets.HBox object>"
            ]
          },
          "metadata": {
            "tags": []
          }
        },
        {
          "output_type": "stream",
          "text": [
            "\n"
          ],
          "name": "stdout"
        },
        {
          "output_type": "display_data",
          "data": {
            "text/html": [
              "<div style=\"display:flex;flex-direction:row;\"><span>Epoch: 19/100. Iteration: 25/25. Cls loss: 0.10092. Reg loss: 0.18486. Batch loss: 0.28578 Total loss: 0.34245</span><progress style='margin:2px 4px;description_width:initial;' max='25' value='25'></progress>100% 25/25 [00:10&lt;00:00,  2.92it/s]</div>"
            ],
            "text/plain": [
              "<tqdm._fake_ipywidgets.HBox object>"
            ]
          },
          "metadata": {
            "tags": []
          }
        },
        {
          "output_type": "stream",
          "text": [
            "\n"
          ],
          "name": "stdout"
        },
        {
          "output_type": "display_data",
          "data": {
            "text/html": [
              "<div style=\"display:flex;flex-direction:row;\"><span>Epoch: 20/100. Iteration: 25/25. Cls loss: 0.12153. Reg loss: 0.16542. Batch loss: 0.28694 Total loss: 0.32454</span><progress style='margin:2px 4px;description_width:initial;' max='25' value='25'></progress>100% 25/25 [00:10&lt;00:00,  2.89it/s]</div>"
            ],
            "text/plain": [
              "<tqdm._fake_ipywidgets.HBox object>"
            ]
          },
          "metadata": {
            "tags": []
          }
        },
        {
          "output_type": "stream",
          "text": [
            "\n"
          ],
          "name": "stdout"
        },
        {
          "output_type": "display_data",
          "data": {
            "text/html": [
              "<div style=\"display:flex;flex-direction:row;\"><span>Epoch: 21/100. Iteration: 25/25. Cls loss: 0.11756. Reg loss: 0.17656. Batch loss: 0.29413 Total loss: 0.32290</span><progress style='margin:2px 4px;description_width:initial;' max='25' value='25'></progress>100% 25/25 [00:10&lt;00:00,  2.89it/s]</div>"
            ],
            "text/plain": [
              "<tqdm._fake_ipywidgets.HBox object>"
            ]
          },
          "metadata": {
            "tags": []
          }
        },
        {
          "output_type": "stream",
          "text": [
            "\n"
          ],
          "name": "stdout"
        },
        {
          "output_type": "display_data",
          "data": {
            "text/html": [
              "<div style=\"display:flex;flex-direction:row;\"><span>Epoch: 22/100. Iteration: 25/25. Cls loss: 0.10257. Reg loss: 0.20102. Batch loss: 0.30359 Total loss: 0.29841</span><progress style='margin:2px 4px;description_width:initial;' max='25' value='25'></progress>100% 25/25 [00:10&lt;00:00,  2.89it/s]</div>"
            ],
            "text/plain": [
              "<tqdm._fake_ipywidgets.HBox object>"
            ]
          },
          "metadata": {
            "tags": []
          }
        },
        {
          "output_type": "stream",
          "text": [
            "\n"
          ],
          "name": "stdout"
        },
        {
          "output_type": "display_data",
          "data": {
            "text/html": [
              "<div style=\"display:flex;flex-direction:row;\"><span>Epoch: 23/100. Iteration: 25/25. Cls loss: 0.09245. Reg loss: 0.19221. Batch loss: 0.28465 Total loss: 0.29100</span><progress style='margin:2px 4px;description_width:initial;' max='25' value='25'></progress>100% 25/25 [00:10&lt;00:00,  2.88it/s]</div>"
            ],
            "text/plain": [
              "<tqdm._fake_ipywidgets.HBox object>"
            ]
          },
          "metadata": {
            "tags": []
          }
        },
        {
          "output_type": "stream",
          "text": [
            "\n"
          ],
          "name": "stdout"
        },
        {
          "output_type": "display_data",
          "data": {
            "text/html": [
              "<div style=\"display:flex;flex-direction:row;\"><span>Epoch: 24/100. Iteration: 25/25. Cls loss: 0.08499. Reg loss: 0.22204. Batch loss: 0.30703 Total loss: 0.27489</span><progress style='margin:2px 4px;description_width:initial;' max='25' value='25'></progress>100% 25/25 [00:10&lt;00:00,  2.93it/s]</div>"
            ],
            "text/plain": [
              "<tqdm._fake_ipywidgets.HBox object>"
            ]
          },
          "metadata": {
            "tags": []
          }
        },
        {
          "output_type": "stream",
          "text": [
            "\n"
          ],
          "name": "stdout"
        },
        {
          "output_type": "display_data",
          "data": {
            "text/html": [
              "<div style=\"display:flex;flex-direction:row;\"><span>Epoch: 25/100. Iteration: 25/25. Cls loss: 0.08938. Reg loss: 0.22168. Batch loss: 0.31107 Total loss: 0.27088</span><progress style='margin:2px 4px;description_width:initial;' max='25' value='25'></progress>100% 25/25 [00:10&lt;00:00,  2.92it/s]</div>"
            ],
            "text/plain": [
              "<tqdm._fake_ipywidgets.HBox object>"
            ]
          },
          "metadata": {
            "tags": []
          }
        },
        {
          "output_type": "stream",
          "text": [
            "\n"
          ],
          "name": "stdout"
        },
        {
          "output_type": "display_data",
          "data": {
            "text/html": [
              "<div style=\"display:flex;flex-direction:row;\"><span>Epoch: 26/100. Iteration: 25/25. Cls loss: 0.08238. Reg loss: 0.21612. Batch loss: 0.29850 Total loss: 0.25500</span><progress style='margin:2px 4px;description_width:initial;' max='25' value='25'></progress>100% 25/25 [00:10&lt;00:00,  2.94it/s]</div>"
            ],
            "text/plain": [
              "<tqdm._fake_ipywidgets.HBox object>"
            ]
          },
          "metadata": {
            "tags": []
          }
        },
        {
          "output_type": "stream",
          "text": [
            "\n"
          ],
          "name": "stdout"
        },
        {
          "output_type": "display_data",
          "data": {
            "text/html": [
              "<div style=\"display:flex;flex-direction:row;\"><span>Epoch: 27/100. Iteration: 25/25. Cls loss: 0.06357. Reg loss: 0.18729. Batch loss: 0.25087 Total loss: 0.25319</span><progress style='margin:2px 4px;description_width:initial;' max='25' value='25'></progress>100% 25/25 [00:10&lt;00:00,  2.96it/s]</div>"
            ],
            "text/plain": [
              "<tqdm._fake_ipywidgets.HBox object>"
            ]
          },
          "metadata": {
            "tags": []
          }
        },
        {
          "output_type": "stream",
          "text": [
            "\n"
          ],
          "name": "stdout"
        },
        {
          "output_type": "display_data",
          "data": {
            "text/html": [
              "<div style=\"display:flex;flex-direction:row;\"><span>Epoch: 28/100. Iteration: 25/25. Cls loss: 0.07746. Reg loss: 0.16769. Batch loss: 0.24515 Total loss: 0.24639</span><progress style='margin:2px 4px;description_width:initial;' max='25' value='25'></progress>100% 25/25 [00:10&lt;00:00,  2.95it/s]</div>"
            ],
            "text/plain": [
              "<tqdm._fake_ipywidgets.HBox object>"
            ]
          },
          "metadata": {
            "tags": []
          }
        },
        {
          "output_type": "stream",
          "text": [
            "\n"
          ],
          "name": "stdout"
        },
        {
          "output_type": "display_data",
          "data": {
            "text/html": [
              "<div style=\"display:flex;flex-direction:row;\"><span>Epoch: 29/100. Iteration: 25/25. Cls loss: 0.06782. Reg loss: 0.18150. Batch loss: 0.24932 Total loss: 0.24180</span><progress style='margin:2px 4px;description_width:initial;' max='25' value='25'></progress>100% 25/25 [00:10&lt;00:00,  2.96it/s]</div>"
            ],
            "text/plain": [
              "<tqdm._fake_ipywidgets.HBox object>"
            ]
          },
          "metadata": {
            "tags": []
          }
        },
        {
          "output_type": "stream",
          "text": [
            "\n"
          ],
          "name": "stdout"
        },
        {
          "output_type": "display_data",
          "data": {
            "text/html": [
              "<div style=\"display:flex;flex-direction:row;\"><span>Epoch: 30/100. Iteration: 25/25. Cls loss: 0.04888. Reg loss: 0.12290. Batch loss: 0.17178 Total loss: 0.24997</span><progress style='margin:2px 4px;description_width:initial;' max='25' value='25'></progress>100% 25/25 [00:10&lt;00:00,  2.94it/s]</div>"
            ],
            "text/plain": [
              "<tqdm._fake_ipywidgets.HBox object>"
            ]
          },
          "metadata": {
            "tags": []
          }
        },
        {
          "output_type": "stream",
          "text": [
            "\n"
          ],
          "name": "stdout"
        },
        {
          "output_type": "display_data",
          "data": {
            "text/html": [
              "<div style=\"display:flex;flex-direction:row;\"><span>Epoch: 31/100. Iteration: 25/25. Cls loss: 0.04823. Reg loss: 0.13074. Batch loss: 0.17897 Total loss: 0.23387</span><progress style='margin:2px 4px;description_width:initial;' max='25' value='25'></progress>100% 25/25 [00:10&lt;00:00,  2.94it/s]</div>"
            ],
            "text/plain": [
              "<tqdm._fake_ipywidgets.HBox object>"
            ]
          },
          "metadata": {
            "tags": []
          }
        },
        {
          "output_type": "stream",
          "text": [
            "\n"
          ],
          "name": "stdout"
        },
        {
          "output_type": "display_data",
          "data": {
            "text/html": [
              "<div style=\"display:flex;flex-direction:row;\"><span>Epoch: 32/100. Iteration: 25/25. Cls loss: 0.06381. Reg loss: 0.17903. Batch loss: 0.24284 Total loss: 0.21897</span><progress style='margin:2px 4px;description_width:initial;' max='25' value='25'></progress>100% 25/25 [00:10&lt;00:00,  2.97it/s]</div>"
            ],
            "text/plain": [
              "<tqdm._fake_ipywidgets.HBox object>"
            ]
          },
          "metadata": {
            "tags": []
          }
        },
        {
          "output_type": "stream",
          "text": [
            "\n"
          ],
          "name": "stdout"
        },
        {
          "output_type": "display_data",
          "data": {
            "text/html": [
              "<div style=\"display:flex;flex-direction:row;\"><span>Epoch: 33/100. Iteration: 25/25. Cls loss: 0.06171. Reg loss: 0.17128. Batch loss: 0.23299 Total loss: 0.22198</span><progress style='margin:2px 4px;description_width:initial;' max='25' value='25'></progress>100% 25/25 [00:10&lt;00:00,  2.94it/s]</div>"
            ],
            "text/plain": [
              "<tqdm._fake_ipywidgets.HBox object>"
            ]
          },
          "metadata": {
            "tags": []
          }
        },
        {
          "output_type": "stream",
          "text": [
            "\n"
          ],
          "name": "stdout"
        },
        {
          "output_type": "display_data",
          "data": {
            "text/html": [
              "<div style=\"display:flex;flex-direction:row;\"><span>Epoch: 34/100. Iteration: 25/25. Cls loss: 0.04149. Reg loss: 0.14982. Batch loss: 0.19131 Total loss: 0.21666</span><progress style='margin:2px 4px;description_width:initial;' max='25' value='25'></progress>100% 25/25 [00:10&lt;00:00,  2.94it/s]</div>"
            ],
            "text/plain": [
              "<tqdm._fake_ipywidgets.HBox object>"
            ]
          },
          "metadata": {
            "tags": []
          }
        },
        {
          "output_type": "stream",
          "text": [
            "\n"
          ],
          "name": "stdout"
        },
        {
          "output_type": "display_data",
          "data": {
            "text/html": [
              "<div style=\"display:flex;flex-direction:row;\"><span>Epoch: 35/100. Iteration: 25/25. Cls loss: 0.08758. Reg loss: 0.17599. Batch loss: 0.26357 Total loss: 0.21512</span><progress style='margin:2px 4px;description_width:initial;' max='25' value='25'></progress>100% 25/25 [00:10&lt;00:00,  2.89it/s]</div>"
            ],
            "text/plain": [
              "<tqdm._fake_ipywidgets.HBox object>"
            ]
          },
          "metadata": {
            "tags": []
          }
        },
        {
          "output_type": "stream",
          "text": [
            "\n"
          ],
          "name": "stdout"
        },
        {
          "output_type": "display_data",
          "data": {
            "text/html": [
              "<div style=\"display:flex;flex-direction:row;\"><span>Epoch: 36/100. Iteration: 25/25. Cls loss: 0.05646. Reg loss: 0.16378. Batch loss: 0.22024 Total loss: 0.20961</span><progress style='margin:2px 4px;description_width:initial;' max='25' value='25'></progress>100% 25/25 [00:10&lt;00:00,  2.95it/s]</div>"
            ],
            "text/plain": [
              "<tqdm._fake_ipywidgets.HBox object>"
            ]
          },
          "metadata": {
            "tags": []
          }
        },
        {
          "output_type": "stream",
          "text": [
            "\n"
          ],
          "name": "stdout"
        },
        {
          "output_type": "display_data",
          "data": {
            "text/html": [
              "<div style=\"display:flex;flex-direction:row;\"><span>Epoch: 37/100. Iteration: 25/25. Cls loss: 0.03949. Reg loss: 0.12554. Batch loss: 0.16503 Total loss: 0.19562</span><progress style='margin:2px 4px;description_width:initial;' max='25' value='25'></progress>100% 25/25 [00:10&lt;00:00,  2.94it/s]</div>"
            ],
            "text/plain": [
              "<tqdm._fake_ipywidgets.HBox object>"
            ]
          },
          "metadata": {
            "tags": []
          }
        },
        {
          "output_type": "stream",
          "text": [
            "\n"
          ],
          "name": "stdout"
        },
        {
          "output_type": "display_data",
          "data": {
            "text/html": [
              "<div style=\"display:flex;flex-direction:row;\"><span>Epoch: 38/100. Iteration: 25/25. Cls loss: 0.03731. Reg loss: 0.13930. Batch loss: 0.17661 Total loss: 0.19363</span><progress style='margin:2px 4px;description_width:initial;' max='25' value='25'></progress>100% 25/25 [00:10&lt;00:00,  2.96it/s]</div>"
            ],
            "text/plain": [
              "<tqdm._fake_ipywidgets.HBox object>"
            ]
          },
          "metadata": {
            "tags": []
          }
        },
        {
          "output_type": "stream",
          "text": [
            "\n"
          ],
          "name": "stdout"
        },
        {
          "output_type": "display_data",
          "data": {
            "text/html": [
              "<div style=\"display:flex;flex-direction:row;\"><span>Epoch: 39/100. Iteration: 25/25. Cls loss: 0.07100. Reg loss: 0.19348. Batch loss: 0.26448 Total loss: 0.20044</span><progress style='margin:2px 4px;description_width:initial;' max='25' value='25'></progress>100% 25/25 [00:10&lt;00:00,  2.87it/s]</div>"
            ],
            "text/plain": [
              "<tqdm._fake_ipywidgets.HBox object>"
            ]
          },
          "metadata": {
            "tags": []
          }
        },
        {
          "output_type": "stream",
          "text": [
            "\n"
          ],
          "name": "stdout"
        },
        {
          "output_type": "display_data",
          "data": {
            "text/html": [
              "<div style=\"display:flex;flex-direction:row;\"><span>Epoch: 40/100. Iteration: 25/25. Cls loss: 0.05041. Reg loss: 0.13719. Batch loss: 0.18760 Total loss: 0.19065</span><progress style='margin:2px 4px;description_width:initial;' max='25' value='25'></progress>100% 25/25 [00:10&lt;00:00,  2.90it/s]</div>"
            ],
            "text/plain": [
              "<tqdm._fake_ipywidgets.HBox object>"
            ]
          },
          "metadata": {
            "tags": []
          }
        },
        {
          "output_type": "stream",
          "text": [
            "\n"
          ],
          "name": "stdout"
        },
        {
          "output_type": "display_data",
          "data": {
            "text/html": [
              "<div style=\"display:flex;flex-direction:row;\"><span>Epoch: 41/100. Iteration: 25/25. Cls loss: 0.03632. Reg loss: 0.14354. Batch loss: 0.17986 Total loss: 0.18586</span><progress style='margin:2px 4px;description_width:initial;' max='25' value='25'></progress>100% 25/25 [00:10&lt;00:00,  2.90it/s]</div>"
            ],
            "text/plain": [
              "<tqdm._fake_ipywidgets.HBox object>"
            ]
          },
          "metadata": {
            "tags": []
          }
        },
        {
          "output_type": "stream",
          "text": [
            "\n"
          ],
          "name": "stdout"
        },
        {
          "output_type": "display_data",
          "data": {
            "text/html": [
              "<div style=\"display:flex;flex-direction:row;\"><span>Epoch: 42/100. Iteration: 25/25. Cls loss: 0.03461. Reg loss: 0.11282. Batch loss: 0.14744 Total loss: 0.18190</span><progress style='margin:2px 4px;description_width:initial;' max='25' value='25'></progress>100% 25/25 [00:10&lt;00:00,  2.95it/s]</div>"
            ],
            "text/plain": [
              "<tqdm._fake_ipywidgets.HBox object>"
            ]
          },
          "metadata": {
            "tags": []
          }
        },
        {
          "output_type": "stream",
          "text": [
            "\n"
          ],
          "name": "stdout"
        },
        {
          "output_type": "display_data",
          "data": {
            "text/html": [
              "<div style=\"display:flex;flex-direction:row;\"><span>Epoch: 43/100. Iteration: 25/25. Cls loss: 0.08009. Reg loss: 0.18538. Batch loss: 0.26547 Total loss: 0.17563</span><progress style='margin:2px 4px;description_width:initial;' max='25' value='25'></progress>100% 25/25 [00:10&lt;00:00,  2.92it/s]</div>"
            ],
            "text/plain": [
              "<tqdm._fake_ipywidgets.HBox object>"
            ]
          },
          "metadata": {
            "tags": []
          }
        },
        {
          "output_type": "stream",
          "text": [
            "\n"
          ],
          "name": "stdout"
        },
        {
          "output_type": "display_data",
          "data": {
            "text/html": [
              "<div style=\"display:flex;flex-direction:row;\"><span>Epoch: 44/100. Iteration: 25/25. Cls loss: 0.03305. Reg loss: 0.10278. Batch loss: 0.13583 Total loss: 0.16491</span><progress style='margin:2px 4px;description_width:initial;' max='25' value='25'></progress>100% 25/25 [00:10&lt;00:00,  2.86it/s]</div>"
            ],
            "text/plain": [
              "<tqdm._fake_ipywidgets.HBox object>"
            ]
          },
          "metadata": {
            "tags": []
          }
        },
        {
          "output_type": "stream",
          "text": [
            "\n"
          ],
          "name": "stdout"
        },
        {
          "output_type": "display_data",
          "data": {
            "text/html": [
              "<div style=\"display:flex;flex-direction:row;\"><span>Epoch: 45/100. Iteration: 25/25. Cls loss: 0.05254. Reg loss: 0.17325. Batch loss: 0.22578 Total loss: 0.17253</span><progress style='margin:2px 4px;description_width:initial;' max='25' value='25'></progress>100% 25/25 [00:10&lt;00:00,  2.95it/s]</div>"
            ],
            "text/plain": [
              "<tqdm._fake_ipywidgets.HBox object>"
            ]
          },
          "metadata": {
            "tags": []
          }
        },
        {
          "output_type": "stream",
          "text": [
            "\n"
          ],
          "name": "stdout"
        },
        {
          "output_type": "display_data",
          "data": {
            "text/html": [
              "<div style=\"display:flex;flex-direction:row;\"><span>Epoch: 46/100. Iteration: 25/25. Cls loss: 0.03247. Reg loss: 0.12868. Batch loss: 0.16115 Total loss: 0.17178</span><progress style='margin:2px 4px;description_width:initial;' max='25' value='25'></progress>100% 25/25 [00:10&lt;00:00,  2.92it/s]</div>"
            ],
            "text/plain": [
              "<tqdm._fake_ipywidgets.HBox object>"
            ]
          },
          "metadata": {
            "tags": []
          }
        },
        {
          "output_type": "stream",
          "text": [
            "\n"
          ],
          "name": "stdout"
        },
        {
          "output_type": "display_data",
          "data": {
            "text/html": [
              "<div style=\"display:flex;flex-direction:row;\"><span>Epoch: 47/100. Iteration: 25/25. Cls loss: 0.02491. Reg loss: 0.12620. Batch loss: 0.15112 Total loss: 0.16773</span><progress style='margin:2px 4px;description_width:initial;' max='25' value='25'></progress>100% 25/25 [00:10&lt;00:00,  2.93it/s]</div>"
            ],
            "text/plain": [
              "<tqdm._fake_ipywidgets.HBox object>"
            ]
          },
          "metadata": {
            "tags": []
          }
        },
        {
          "output_type": "stream",
          "text": [
            "\n"
          ],
          "name": "stdout"
        },
        {
          "output_type": "display_data",
          "data": {
            "text/html": [
              "<div style=\"display:flex;flex-direction:row;\"><span>Epoch: 48/100. Iteration: 25/25. Cls loss: 0.02579. Reg loss: 0.11720. Batch loss: 0.14299 Total loss: 0.16005</span><progress style='margin:2px 4px;description_width:initial;' max='25' value='25'></progress>100% 25/25 [00:10&lt;00:00,  2.96it/s]</div>"
            ],
            "text/plain": [
              "<tqdm._fake_ipywidgets.HBox object>"
            ]
          },
          "metadata": {
            "tags": []
          }
        },
        {
          "output_type": "stream",
          "text": [
            "\n"
          ],
          "name": "stdout"
        },
        {
          "output_type": "display_data",
          "data": {
            "text/html": [
              "<div style=\"display:flex;flex-direction:row;\"><span>Epoch: 49/100. Iteration: 25/25. Cls loss: 0.03567. Reg loss: 0.13576. Batch loss: 0.17143 Total loss: 0.15929</span><progress style='margin:2px 4px;description_width:initial;' max='25' value='25'></progress>100% 25/25 [00:10&lt;00:00,  2.98it/s]</div>"
            ],
            "text/plain": [
              "<tqdm._fake_ipywidgets.HBox object>"
            ]
          },
          "metadata": {
            "tags": []
          }
        },
        {
          "output_type": "stream",
          "text": [
            "\n"
          ],
          "name": "stdout"
        },
        {
          "output_type": "display_data",
          "data": {
            "text/html": [
              "<div style=\"display:flex;flex-direction:row;\"><span>Epoch: 50/100. Iteration: 25/25. Cls loss: 0.03755. Reg loss: 0.12198. Batch loss: 0.15954 Total loss: 0.15372</span><progress style='margin:2px 4px;description_width:initial;' max='25' value='25'></progress>100% 25/25 [00:10&lt;00:00,  2.96it/s]</div>"
            ],
            "text/plain": [
              "<tqdm._fake_ipywidgets.HBox object>"
            ]
          },
          "metadata": {
            "tags": []
          }
        },
        {
          "output_type": "stream",
          "text": [
            "\n"
          ],
          "name": "stdout"
        },
        {
          "output_type": "display_data",
          "data": {
            "text/html": [
              "<div style=\"display:flex;flex-direction:row;\"><span>Epoch: 51/100. Iteration: 25/25. Cls loss: 0.02699. Reg loss: 0.12802. Batch loss: 0.15501 Total loss: 0.15182</span><progress style='margin:2px 4px;description_width:initial;' max='25' value='25'></progress>100% 25/25 [00:10&lt;00:00,  2.93it/s]</div>"
            ],
            "text/plain": [
              "<tqdm._fake_ipywidgets.HBox object>"
            ]
          },
          "metadata": {
            "tags": []
          }
        },
        {
          "output_type": "stream",
          "text": [
            "\n"
          ],
          "name": "stdout"
        },
        {
          "output_type": "display_data",
          "data": {
            "text/html": [
              "<div style=\"display:flex;flex-direction:row;\"><span>Epoch: 52/100. Iteration: 25/25. Cls loss: 0.04676. Reg loss: 0.15859. Batch loss: 0.20535 Total loss: 0.15263</span><progress style='margin:2px 4px;description_width:initial;' max='25' value='25'></progress>100% 25/25 [00:10&lt;00:00,  2.96it/s]</div>"
            ],
            "text/plain": [
              "<tqdm._fake_ipywidgets.HBox object>"
            ]
          },
          "metadata": {
            "tags": []
          }
        },
        {
          "output_type": "stream",
          "text": [
            "\n"
          ],
          "name": "stdout"
        },
        {
          "output_type": "display_data",
          "data": {
            "text/html": [
              "<div style=\"display:flex;flex-direction:row;\"><span>Epoch: 53/100. Iteration: 25/25. Cls loss: 0.01973. Reg loss: 0.09525. Batch loss: 0.11498 Total loss: 0.15500</span><progress style='margin:2px 4px;description_width:initial;' max='25' value='25'></progress>100% 25/25 [00:10&lt;00:00,  2.97it/s]</div>"
            ],
            "text/plain": [
              "<tqdm._fake_ipywidgets.HBox object>"
            ]
          },
          "metadata": {
            "tags": []
          }
        },
        {
          "output_type": "stream",
          "text": [
            "\n"
          ],
          "name": "stdout"
        },
        {
          "output_type": "display_data",
          "data": {
            "text/html": [
              "<div style=\"display:flex;flex-direction:row;\"><span>Epoch: 54/100. Iteration: 25/25. Cls loss: 0.02678. Reg loss: 0.11215. Batch loss: 0.13893 Total loss: 0.14598</span><progress style='margin:2px 4px;description_width:initial;' max='25' value='25'></progress>100% 25/25 [00:10&lt;00:00,  2.95it/s]</div>"
            ],
            "text/plain": [
              "<tqdm._fake_ipywidgets.HBox object>"
            ]
          },
          "metadata": {
            "tags": []
          }
        },
        {
          "output_type": "stream",
          "text": [
            "\n"
          ],
          "name": "stdout"
        },
        {
          "output_type": "display_data",
          "data": {
            "text/html": [
              "<div style=\"display:flex;flex-direction:row;\"><span>Epoch: 55/100. Iteration: 25/25. Cls loss: 0.02741. Reg loss: 0.11841. Batch loss: 0.14582 Total loss: 0.14779</span><progress style='margin:2px 4px;description_width:initial;' max='25' value='25'></progress>100% 25/25 [00:09&lt;00:00,  2.97it/s]</div>"
            ],
            "text/plain": [
              "<tqdm._fake_ipywidgets.HBox object>"
            ]
          },
          "metadata": {
            "tags": []
          }
        },
        {
          "output_type": "stream",
          "text": [
            "\n"
          ],
          "name": "stdout"
        },
        {
          "output_type": "display_data",
          "data": {
            "text/html": [
              "<div style=\"display:flex;flex-direction:row;\"><span>Epoch: 56/100. Iteration: 25/25. Cls loss: 0.01908. Reg loss: 0.11272. Batch loss: 0.13179 Total loss: 0.13981</span><progress style='margin:2px 4px;description_width:initial;' max='25' value='25'></progress>100% 25/25 [00:09&lt;00:00,  2.97it/s]</div>"
            ],
            "text/plain": [
              "<tqdm._fake_ipywidgets.HBox object>"
            ]
          },
          "metadata": {
            "tags": []
          }
        },
        {
          "output_type": "stream",
          "text": [
            "\n"
          ],
          "name": "stdout"
        },
        {
          "output_type": "display_data",
          "data": {
            "text/html": [
              "<div style=\"display:flex;flex-direction:row;\"><span>Epoch: 57/100. Iteration: 25/25. Cls loss: 0.02221. Reg loss: 0.11013. Batch loss: 0.13234 Total loss: 0.14562</span><progress style='margin:2px 4px;description_width:initial;' max='25' value='25'></progress>100% 25/25 [00:09&lt;00:00,  2.94it/s]</div>"
            ],
            "text/plain": [
              "<tqdm._fake_ipywidgets.HBox object>"
            ]
          },
          "metadata": {
            "tags": []
          }
        },
        {
          "output_type": "stream",
          "text": [
            "\n"
          ],
          "name": "stdout"
        },
        {
          "output_type": "display_data",
          "data": {
            "text/html": [
              "<div style=\"display:flex;flex-direction:row;\"><span>Epoch: 58/100. Iteration: 25/25. Cls loss: 0.01887. Reg loss: 0.09518. Batch loss: 0.11405 Total loss: 0.14977</span><progress style='margin:2px 4px;description_width:initial;' max='25' value='25'></progress>100% 25/25 [00:10&lt;00:00,  2.96it/s]</div>"
            ],
            "text/plain": [
              "<tqdm._fake_ipywidgets.HBox object>"
            ]
          },
          "metadata": {
            "tags": []
          }
        },
        {
          "output_type": "stream",
          "text": [
            "\n"
          ],
          "name": "stdout"
        },
        {
          "output_type": "display_data",
          "data": {
            "text/html": [
              "<div style=\"display:flex;flex-direction:row;\"><span>Epoch: 59/100. Iteration: 25/25. Cls loss: 0.02321. Reg loss: 0.11201. Batch loss: 0.13522 Total loss: 0.13915</span><progress style='margin:2px 4px;description_width:initial;' max='25' value='25'></progress>100% 25/25 [00:10&lt;00:00,  2.94it/s]</div>"
            ],
            "text/plain": [
              "<tqdm._fake_ipywidgets.HBox object>"
            ]
          },
          "metadata": {
            "tags": []
          }
        },
        {
          "output_type": "stream",
          "text": [
            "\n"
          ],
          "name": "stdout"
        },
        {
          "output_type": "display_data",
          "data": {
            "text/html": [
              "<div style=\"display:flex;flex-direction:row;\"><span>Epoch: 60/100. Iteration: 25/25. Cls loss: 0.01988. Reg loss: 0.10609. Batch loss: 0.12597 Total loss: 0.13969</span><progress style='margin:2px 4px;description_width:initial;' max='25' value='25'></progress>100% 25/25 [00:10&lt;00:00,  2.91it/s]</div>"
            ],
            "text/plain": [
              "<tqdm._fake_ipywidgets.HBox object>"
            ]
          },
          "metadata": {
            "tags": []
          }
        },
        {
          "output_type": "stream",
          "text": [
            "\n"
          ],
          "name": "stdout"
        },
        {
          "output_type": "display_data",
          "data": {
            "text/html": [
              "<div style=\"display:flex;flex-direction:row;\"><span>Epoch: 61/100. Iteration: 25/25. Cls loss: 0.02578. Reg loss: 0.10888. Batch loss: 0.13467 Total loss: 0.14086</span><progress style='margin:2px 4px;description_width:initial;' max='25' value='25'></progress>100% 25/25 [00:10&lt;00:00,  2.93it/s]</div>"
            ],
            "text/plain": [
              "<tqdm._fake_ipywidgets.HBox object>"
            ]
          },
          "metadata": {
            "tags": []
          }
        },
        {
          "output_type": "stream",
          "text": [
            "\n"
          ],
          "name": "stdout"
        },
        {
          "output_type": "display_data",
          "data": {
            "text/html": [
              "<div style=\"display:flex;flex-direction:row;\"><span>Epoch: 62/100. Iteration: 25/25. Cls loss: 0.03342. Reg loss: 0.12990. Batch loss: 0.16332 Total loss: 0.14391</span><progress style='margin:2px 4px;description_width:initial;' max='25' value='25'></progress>100% 25/25 [00:10&lt;00:00,  2.85it/s]</div>"
            ],
            "text/plain": [
              "<tqdm._fake_ipywidgets.HBox object>"
            ]
          },
          "metadata": {
            "tags": []
          }
        },
        {
          "output_type": "stream",
          "text": [
            "\n"
          ],
          "name": "stdout"
        },
        {
          "output_type": "display_data",
          "data": {
            "text/html": [
              "<div style=\"display:flex;flex-direction:row;\"><span>Epoch: 63/100. Iteration: 25/25. Cls loss: 0.02429. Reg loss: 0.10265. Batch loss: 0.12694 Total loss: 0.13850</span><progress style='margin:2px 4px;description_width:initial;' max='25' value='25'></progress>100% 25/25 [00:10&lt;00:00,  2.85it/s]</div>"
            ],
            "text/plain": [
              "<tqdm._fake_ipywidgets.HBox object>"
            ]
          },
          "metadata": {
            "tags": []
          }
        },
        {
          "output_type": "stream",
          "text": [
            "\n"
          ],
          "name": "stdout"
        },
        {
          "output_type": "display_data",
          "data": {
            "text/html": [
              "<div style=\"display:flex;flex-direction:row;\"><span>Epoch: 64/100. Iteration: 25/25. Cls loss: 0.03112. Reg loss: 0.14729. Batch loss: 0.17841 Total loss: 0.12916</span><progress style='margin:2px 4px;description_width:initial;' max='25' value='25'></progress>100% 25/25 [00:10&lt;00:00,  2.87it/s]</div>"
            ],
            "text/plain": [
              "<tqdm._fake_ipywidgets.HBox object>"
            ]
          },
          "metadata": {
            "tags": []
          }
        },
        {
          "output_type": "stream",
          "text": [
            "\n"
          ],
          "name": "stdout"
        },
        {
          "output_type": "display_data",
          "data": {
            "text/html": [
              "<div style=\"display:flex;flex-direction:row;\"><span>Epoch: 65/100. Iteration: 25/25. Cls loss: 0.01871. Reg loss: 0.10874. Batch loss: 0.12745 Total loss: 0.13614</span><progress style='margin:2px 4px;description_width:initial;' max='25' value='25'></progress>100% 25/25 [00:10&lt;00:00,  2.88it/s]</div>"
            ],
            "text/plain": [
              "<tqdm._fake_ipywidgets.HBox object>"
            ]
          },
          "metadata": {
            "tags": []
          }
        },
        {
          "output_type": "stream",
          "text": [
            "\n"
          ],
          "name": "stdout"
        },
        {
          "output_type": "display_data",
          "data": {
            "text/html": [
              "<div style=\"display:flex;flex-direction:row;\"><span>Epoch: 66/100. Iteration: 25/25. Cls loss: 0.02260. Reg loss: 0.07462. Batch loss: 0.09722 Total loss: 0.13196</span><progress style='margin:2px 4px;description_width:initial;' max='25' value='25'></progress>100% 25/25 [00:10&lt;00:00,  2.87it/s]</div>"
            ],
            "text/plain": [
              "<tqdm._fake_ipywidgets.HBox object>"
            ]
          },
          "metadata": {
            "tags": []
          }
        },
        {
          "output_type": "stream",
          "text": [
            "\n"
          ],
          "name": "stdout"
        },
        {
          "output_type": "display_data",
          "data": {
            "text/html": [
              "<div style=\"display:flex;flex-direction:row;\"><span>Epoch: 67/100. Iteration: 25/25. Cls loss: 0.01967. Reg loss: 0.11569. Batch loss: 0.13536 Total loss: 0.12970</span><progress style='margin:2px 4px;description_width:initial;' max='25' value='25'></progress>100% 25/25 [00:10&lt;00:00,  2.93it/s]</div>"
            ],
            "text/plain": [
              "<tqdm._fake_ipywidgets.HBox object>"
            ]
          },
          "metadata": {
            "tags": []
          }
        },
        {
          "output_type": "stream",
          "text": [
            "\n"
          ],
          "name": "stdout"
        },
        {
          "output_type": "display_data",
          "data": {
            "text/html": [
              "<div style=\"display:flex;flex-direction:row;\"><span>Epoch: 68/100. Iteration: 25/25. Cls loss: 0.01947. Reg loss: 0.11249. Batch loss: 0.13196 Total loss: 0.12958</span><progress style='margin:2px 4px;description_width:initial;' max='25' value='25'></progress>100% 25/25 [00:10&lt;00:00,  2.97it/s]</div>"
            ],
            "text/plain": [
              "<tqdm._fake_ipywidgets.HBox object>"
            ]
          },
          "metadata": {
            "tags": []
          }
        },
        {
          "output_type": "stream",
          "text": [
            "\n",
            "Epoch    68: reducing learning rate of group 0 to 1.0000e-05.\n"
          ],
          "name": "stdout"
        },
        {
          "output_type": "display_data",
          "data": {
            "text/html": [
              "<div style=\"display:flex;flex-direction:row;\"><span>Epoch: 69/100. Iteration: 25/25. Cls loss: 0.01295. Reg loss: 0.06518. Batch loss: 0.07813 Total loss: 0.11689</span><progress style='margin:2px 4px;description_width:initial;' max='25' value='25'></progress>100% 25/25 [00:10&lt;00:00,  2.95it/s]</div>"
            ],
            "text/plain": [
              "<tqdm._fake_ipywidgets.HBox object>"
            ]
          },
          "metadata": {
            "tags": []
          }
        },
        {
          "output_type": "stream",
          "text": [
            "\n"
          ],
          "name": "stdout"
        },
        {
          "output_type": "display_data",
          "data": {
            "text/html": [
              "<div style=\"display:flex;flex-direction:row;\"><span>Epoch: 70/100. Iteration: 25/25. Cls loss: 0.01205. Reg loss: 0.06476. Batch loss: 0.07681 Total loss: 0.11187</span><progress style='margin:2px 4px;description_width:initial;' max='25' value='25'></progress>100% 25/25 [00:10&lt;00:00,  2.94it/s]</div>"
            ],
            "text/plain": [
              "<tqdm._fake_ipywidgets.HBox object>"
            ]
          },
          "metadata": {
            "tags": []
          }
        },
        {
          "output_type": "stream",
          "text": [
            "\n"
          ],
          "name": "stdout"
        },
        {
          "output_type": "display_data",
          "data": {
            "text/html": [
              "<div style=\"display:flex;flex-direction:row;\"><span>Epoch: 71/100. Iteration: 25/25. Cls loss: 0.01668. Reg loss: 0.11634. Batch loss: 0.13302 Total loss: 0.10677</span><progress style='margin:2px 4px;description_width:initial;' max='25' value='25'></progress>100% 25/25 [00:10&lt;00:00,  2.95it/s]</div>"
            ],
            "text/plain": [
              "<tqdm._fake_ipywidgets.HBox object>"
            ]
          },
          "metadata": {
            "tags": []
          }
        },
        {
          "output_type": "stream",
          "text": [
            "\n"
          ],
          "name": "stdout"
        },
        {
          "output_type": "display_data",
          "data": {
            "text/html": [
              "<div style=\"display:flex;flex-direction:row;\"><span>Epoch: 72/100. Iteration: 25/25. Cls loss: 0.01610. Reg loss: 0.06966. Batch loss: 0.08575 Total loss: 0.11246</span><progress style='margin:2px 4px;description_width:initial;' max='25' value='25'></progress>100% 25/25 [00:10&lt;00:00,  2.93it/s]</div>"
            ],
            "text/plain": [
              "<tqdm._fake_ipywidgets.HBox object>"
            ]
          },
          "metadata": {
            "tags": []
          }
        },
        {
          "output_type": "stream",
          "text": [
            "\n"
          ],
          "name": "stdout"
        },
        {
          "output_type": "display_data",
          "data": {
            "text/html": [
              "<div style=\"display:flex;flex-direction:row;\"><span>Epoch: 73/100. Iteration: 25/25. Cls loss: 0.01930. Reg loss: 0.09599. Batch loss: 0.11529 Total loss: 0.10656</span><progress style='margin:2px 4px;description_width:initial;' max='25' value='25'></progress>100% 25/25 [00:10&lt;00:00,  2.94it/s]</div>"
            ],
            "text/plain": [
              "<tqdm._fake_ipywidgets.HBox object>"
            ]
          },
          "metadata": {
            "tags": []
          }
        },
        {
          "output_type": "stream",
          "text": [
            "\n"
          ],
          "name": "stdout"
        },
        {
          "output_type": "display_data",
          "data": {
            "text/html": [
              "<div style=\"display:flex;flex-direction:row;\"><span>Epoch: 74/100. Iteration: 25/25. Cls loss: 0.02504. Reg loss: 0.10217. Batch loss: 0.12721 Total loss: 0.10670</span><progress style='margin:2px 4px;description_width:initial;' max='25' value='25'></progress>100% 25/25 [00:10&lt;00:00,  2.97it/s]</div>"
            ],
            "text/plain": [
              "<tqdm._fake_ipywidgets.HBox object>"
            ]
          },
          "metadata": {
            "tags": []
          }
        },
        {
          "output_type": "stream",
          "text": [
            "\n"
          ],
          "name": "stdout"
        },
        {
          "output_type": "display_data",
          "data": {
            "text/html": [
              "<div style=\"display:flex;flex-direction:row;\"><span>Epoch: 75/100. Iteration: 25/25. Cls loss: 0.02426. Reg loss: 0.06004. Batch loss: 0.08430 Total loss: 0.11237</span><progress style='margin:2px 4px;description_width:initial;' max='25' value='25'></progress>100% 25/25 [00:09&lt;00:00,  2.97it/s]</div>"
            ],
            "text/plain": [
              "<tqdm._fake_ipywidgets.HBox object>"
            ]
          },
          "metadata": {
            "tags": []
          }
        },
        {
          "output_type": "stream",
          "text": [
            "\n"
          ],
          "name": "stdout"
        },
        {
          "output_type": "display_data",
          "data": {
            "text/html": [
              "<div style=\"display:flex;flex-direction:row;\"><span>Epoch: 76/100. Iteration: 25/25. Cls loss: 0.01142. Reg loss: 0.06884. Batch loss: 0.08026 Total loss: 0.10912</span><progress style='margin:2px 4px;description_width:initial;' max='25' value='25'></progress>100% 25/25 [00:10&lt;00:00,  2.86it/s]</div>"
            ],
            "text/plain": [
              "<tqdm._fake_ipywidgets.HBox object>"
            ]
          },
          "metadata": {
            "tags": []
          }
        },
        {
          "output_type": "stream",
          "text": [
            "\n"
          ],
          "name": "stdout"
        },
        {
          "output_type": "display_data",
          "data": {
            "text/html": [
              "<div style=\"display:flex;flex-direction:row;\"><span>Epoch: 77/100. Iteration: 25/25. Cls loss: 0.01326. Reg loss: 0.08766. Batch loss: 0.10093 Total loss: 0.10365</span><progress style='margin:2px 4px;description_width:initial;' max='25' value='25'></progress>100% 25/25 [00:10&lt;00:00,  2.95it/s]</div>"
            ],
            "text/plain": [
              "<tqdm._fake_ipywidgets.HBox object>"
            ]
          },
          "metadata": {
            "tags": []
          }
        },
        {
          "output_type": "stream",
          "text": [
            "\n"
          ],
          "name": "stdout"
        },
        {
          "output_type": "display_data",
          "data": {
            "text/html": [
              "<div style=\"display:flex;flex-direction:row;\"><span>Epoch: 78/100. Iteration: 25/25. Cls loss: 0.01446. Reg loss: 0.10105. Batch loss: 0.11551 Total loss: 0.10315</span><progress style='margin:2px 4px;description_width:initial;' max='25' value='25'></progress>100% 25/25 [00:09&lt;00:00,  2.97it/s]</div>"
            ],
            "text/plain": [
              "<tqdm._fake_ipywidgets.HBox object>"
            ]
          },
          "metadata": {
            "tags": []
          }
        },
        {
          "output_type": "stream",
          "text": [
            "\n"
          ],
          "name": "stdout"
        },
        {
          "output_type": "display_data",
          "data": {
            "text/html": [
              "<div style=\"display:flex;flex-direction:row;\"><span>Epoch: 79/100. Iteration: 25/25. Cls loss: 0.01447. Reg loss: 0.10012. Batch loss: 0.11459 Total loss: 0.11009</span><progress style='margin:2px 4px;description_width:initial;' max='25' value='25'></progress>100% 25/25 [00:10&lt;00:00,  2.96it/s]</div>"
            ],
            "text/plain": [
              "<tqdm._fake_ipywidgets.HBox object>"
            ]
          },
          "metadata": {
            "tags": []
          }
        },
        {
          "output_type": "stream",
          "text": [
            "\n"
          ],
          "name": "stdout"
        },
        {
          "output_type": "display_data",
          "data": {
            "text/html": [
              "<div style=\"display:flex;flex-direction:row;\"><span>Epoch: 80/100. Iteration: 25/25. Cls loss: 0.02567. Reg loss: 0.14214. Batch loss: 0.16780 Total loss: 0.10598</span><progress style='margin:2px 4px;description_width:initial;' max='25' value='25'></progress>100% 25/25 [00:10&lt;00:00,  2.95it/s]</div>"
            ],
            "text/plain": [
              "<tqdm._fake_ipywidgets.HBox object>"
            ]
          },
          "metadata": {
            "tags": []
          }
        },
        {
          "output_type": "stream",
          "text": [
            "\n"
          ],
          "name": "stdout"
        },
        {
          "output_type": "display_data",
          "data": {
            "text/html": [
              "<div style=\"display:flex;flex-direction:row;\"><span>Epoch: 81/100. Iteration: 25/25. Cls loss: 0.02420. Reg loss: 0.12249. Batch loss: 0.14669 Total loss: 0.10232</span><progress style='margin:2px 4px;description_width:initial;' max='25' value='25'></progress>100% 25/25 [00:10&lt;00:00,  2.97it/s]</div>"
            ],
            "text/plain": [
              "<tqdm._fake_ipywidgets.HBox object>"
            ]
          },
          "metadata": {
            "tags": []
          }
        },
        {
          "output_type": "stream",
          "text": [
            "\n"
          ],
          "name": "stdout"
        },
        {
          "output_type": "display_data",
          "data": {
            "text/html": [
              "<div style=\"display:flex;flex-direction:row;\"><span>Epoch: 82/100. Iteration: 25/25. Cls loss: 0.01914. Reg loss: 0.08956. Batch loss: 0.10870 Total loss: 0.10398</span><progress style='margin:2px 4px;description_width:initial;' max='25' value='25'></progress>100% 25/25 [00:10&lt;00:00,  2.95it/s]</div>"
            ],
            "text/plain": [
              "<tqdm._fake_ipywidgets.HBox object>"
            ]
          },
          "metadata": {
            "tags": []
          }
        },
        {
          "output_type": "stream",
          "text": [
            "\n"
          ],
          "name": "stdout"
        },
        {
          "output_type": "display_data",
          "data": {
            "text/html": [
              "<div style=\"display:flex;flex-direction:row;\"><span>Epoch: 83/100. Iteration: 25/25. Cls loss: 0.02444. Reg loss: 0.11277. Batch loss: 0.13721 Total loss: 0.10381</span><progress style='margin:2px 4px;description_width:initial;' max='25' value='25'></progress>100% 25/25 [00:10&lt;00:00,  2.96it/s]</div>"
            ],
            "text/plain": [
              "<tqdm._fake_ipywidgets.HBox object>"
            ]
          },
          "metadata": {
            "tags": []
          }
        },
        {
          "output_type": "stream",
          "text": [
            "\n"
          ],
          "name": "stdout"
        },
        {
          "output_type": "display_data",
          "data": {
            "text/html": [
              "<div style=\"display:flex;flex-direction:row;\"><span>Epoch: 84/100. Iteration: 25/25. Cls loss: 0.02059. Reg loss: 0.09620. Batch loss: 0.11679 Total loss: 0.10139</span><progress style='margin:2px 4px;description_width:initial;' max='25' value='25'></progress>100% 25/25 [00:09&lt;00:00,  2.95it/s]</div>"
            ],
            "text/plain": [
              "<tqdm._fake_ipywidgets.HBox object>"
            ]
          },
          "metadata": {
            "tags": []
          }
        },
        {
          "output_type": "stream",
          "text": [
            "\n"
          ],
          "name": "stdout"
        },
        {
          "output_type": "display_data",
          "data": {
            "text/html": [
              "<div style=\"display:flex;flex-direction:row;\"><span>Epoch: 85/100. Iteration: 25/25. Cls loss: 0.00886. Reg loss: 0.05525. Batch loss: 0.06411 Total loss: 0.10106</span><progress style='margin:2px 4px;description_width:initial;' max='25' value='25'></progress>100% 25/25 [00:10&lt;00:00,  2.93it/s]</div>"
            ],
            "text/plain": [
              "<tqdm._fake_ipywidgets.HBox object>"
            ]
          },
          "metadata": {
            "tags": []
          }
        },
        {
          "output_type": "stream",
          "text": [
            "\n"
          ],
          "name": "stdout"
        },
        {
          "output_type": "display_data",
          "data": {
            "text/html": [
              "<div style=\"display:flex;flex-direction:row;\"><span>Epoch: 86/100. Iteration: 25/25. Cls loss: 0.01293. Reg loss: 0.07866. Batch loss: 0.09159 Total loss: 0.09850</span><progress style='margin:2px 4px;description_width:initial;' max='25' value='25'></progress>100% 25/25 [00:09&lt;00:00,  2.97it/s]</div>"
            ],
            "text/plain": [
              "<tqdm._fake_ipywidgets.HBox object>"
            ]
          },
          "metadata": {
            "tags": []
          }
        },
        {
          "output_type": "stream",
          "text": [
            "\n"
          ],
          "name": "stdout"
        },
        {
          "output_type": "display_data",
          "data": {
            "text/html": [
              "<div style=\"display:flex;flex-direction:row;\"><span>Epoch: 87/100. Iteration: 25/25. Cls loss: 0.00984. Reg loss: 0.07668. Batch loss: 0.08651 Total loss: 0.10247</span><progress style='margin:2px 4px;description_width:initial;' max='25' value='25'></progress>100% 25/25 [00:10&lt;00:00,  2.95it/s]</div>"
            ],
            "text/plain": [
              "<tqdm._fake_ipywidgets.HBox object>"
            ]
          },
          "metadata": {
            "tags": []
          }
        },
        {
          "output_type": "stream",
          "text": [
            "\n"
          ],
          "name": "stdout"
        },
        {
          "output_type": "display_data",
          "data": {
            "text/html": [
              "<div style=\"display:flex;flex-direction:row;\"><span>Epoch: 88/100. Iteration: 25/25. Cls loss: 0.00669. Reg loss: 0.04556. Batch loss: 0.05225 Total loss: 0.10325</span><progress style='margin:2px 4px;description_width:initial;' max='25' value='25'></progress>100% 25/25 [00:10&lt;00:00,  2.93it/s]</div>"
            ],
            "text/plain": [
              "<tqdm._fake_ipywidgets.HBox object>"
            ]
          },
          "metadata": {
            "tags": []
          }
        },
        {
          "output_type": "stream",
          "text": [
            "\n"
          ],
          "name": "stdout"
        },
        {
          "output_type": "display_data",
          "data": {
            "text/html": [
              "<div style=\"display:flex;flex-direction:row;\"><span>Epoch: 89/100. Iteration: 25/25. Cls loss: 0.01810. Reg loss: 0.07031. Batch loss: 0.08841 Total loss: 0.10026</span><progress style='margin:2px 4px;description_width:initial;' max='25' value='25'></progress>100% 25/25 [00:10&lt;00:00,  2.95it/s]</div>"
            ],
            "text/plain": [
              "<tqdm._fake_ipywidgets.HBox object>"
            ]
          },
          "metadata": {
            "tags": []
          }
        },
        {
          "output_type": "stream",
          "text": [
            "\n"
          ],
          "name": "stdout"
        },
        {
          "output_type": "display_data",
          "data": {
            "text/html": [
              "<div style=\"display:flex;flex-direction:row;\"><span>Epoch: 90/100. Iteration: 25/25. Cls loss: 0.00991. Reg loss: 0.06516. Batch loss: 0.07506 Total loss: 0.10258</span><progress style='margin:2px 4px;description_width:initial;' max='25' value='25'></progress>100% 25/25 [00:10&lt;00:00,  2.96it/s]</div>"
            ],
            "text/plain": [
              "<tqdm._fake_ipywidgets.HBox object>"
            ]
          },
          "metadata": {
            "tags": []
          }
        },
        {
          "output_type": "stream",
          "text": [
            "\n",
            "Epoch    90: reducing learning rate of group 0 to 1.0000e-06.\n"
          ],
          "name": "stdout"
        },
        {
          "output_type": "display_data",
          "data": {
            "text/html": [
              "<div style=\"display:flex;flex-direction:row;\"><span>Epoch: 91/100. Iteration: 25/25. Cls loss: 0.01241. Reg loss: 0.09321. Batch loss: 0.10562 Total loss: 0.10140</span><progress style='margin:2px 4px;description_width:initial;' max='25' value='25'></progress>100% 25/25 [00:09&lt;00:00,  2.96it/s]</div>"
            ],
            "text/plain": [
              "<tqdm._fake_ipywidgets.HBox object>"
            ]
          },
          "metadata": {
            "tags": []
          }
        },
        {
          "output_type": "stream",
          "text": [
            "\n"
          ],
          "name": "stdout"
        },
        {
          "output_type": "display_data",
          "data": {
            "text/html": [
              "<div style=\"display:flex;flex-direction:row;\"><span>Epoch: 92/100. Iteration: 25/25. Cls loss: 0.01203. Reg loss: 0.08415. Batch loss: 0.09618 Total loss: 0.09993</span><progress style='margin:2px 4px;description_width:initial;' max='25' value='25'></progress>100% 25/25 [00:10&lt;00:00,  2.96it/s]</div>"
            ],
            "text/plain": [
              "<tqdm._fake_ipywidgets.HBox object>"
            ]
          },
          "metadata": {
            "tags": []
          }
        },
        {
          "output_type": "stream",
          "text": [
            "\n"
          ],
          "name": "stdout"
        },
        {
          "output_type": "display_data",
          "data": {
            "text/html": [
              "<div style=\"display:flex;flex-direction:row;\"><span>Epoch: 93/100. Iteration: 25/25. Cls loss: 0.01465. Reg loss: 0.07480. Batch loss: 0.08946 Total loss: 0.09943</span><progress style='margin:2px 4px;description_width:initial;' max='25' value='25'></progress>100% 25/25 [00:10&lt;00:00,  2.96it/s]</div>"
            ],
            "text/plain": [
              "<tqdm._fake_ipywidgets.HBox object>"
            ]
          },
          "metadata": {
            "tags": []
          }
        },
        {
          "output_type": "stream",
          "text": [
            "\n"
          ],
          "name": "stdout"
        },
        {
          "output_type": "display_data",
          "data": {
            "text/html": [
              "<div style=\"display:flex;flex-direction:row;\"><span>Epoch: 94/100. Iteration: 25/25. Cls loss: 0.00976. Reg loss: 0.06978. Batch loss: 0.07953 Total loss: 0.09931</span><progress style='margin:2px 4px;description_width:initial;' max='25' value='25'></progress>100% 25/25 [00:10&lt;00:00,  2.95it/s]</div>"
            ],
            "text/plain": [
              "<tqdm._fake_ipywidgets.HBox object>"
            ]
          },
          "metadata": {
            "tags": []
          }
        },
        {
          "output_type": "stream",
          "text": [
            "\n",
            "Epoch    94: reducing learning rate of group 0 to 1.0000e-07.\n"
          ],
          "name": "stdout"
        },
        {
          "output_type": "display_data",
          "data": {
            "text/html": [
              "<div style=\"display:flex;flex-direction:row;\"><span>Epoch: 95/100. Iteration: 25/25. Cls loss: 0.01252. Reg loss: 0.06148. Batch loss: 0.07400 Total loss: 0.09898</span><progress style='margin:2px 4px;description_width:initial;' max='25' value='25'></progress>100% 25/25 [00:10&lt;00:00,  2.93it/s]</div>"
            ],
            "text/plain": [
              "<tqdm._fake_ipywidgets.HBox object>"
            ]
          },
          "metadata": {
            "tags": []
          }
        },
        {
          "output_type": "stream",
          "text": [
            "\n"
          ],
          "name": "stdout"
        },
        {
          "output_type": "display_data",
          "data": {
            "text/html": [
              "<div style=\"display:flex;flex-direction:row;\"><span>Epoch: 96/100. Iteration: 25/25. Cls loss: 0.01192. Reg loss: 0.08330. Batch loss: 0.09522 Total loss: 0.10066</span><progress style='margin:2px 4px;description_width:initial;' max='25' value='25'></progress>100% 25/25 [00:10&lt;00:00,  2.97it/s]</div>"
            ],
            "text/plain": [
              "<tqdm._fake_ipywidgets.HBox object>"
            ]
          },
          "metadata": {
            "tags": []
          }
        },
        {
          "output_type": "stream",
          "text": [
            "\n"
          ],
          "name": "stdout"
        },
        {
          "output_type": "display_data",
          "data": {
            "text/html": [
              "<div style=\"display:flex;flex-direction:row;\"><span>Epoch: 97/100. Iteration: 25/25. Cls loss: 0.00746. Reg loss: 0.04487. Batch loss: 0.05233 Total loss: 0.09793</span><progress style='margin:2px 4px;description_width:initial;' max='25' value='25'></progress>100% 25/25 [00:10&lt;00:00,  2.92it/s]</div>"
            ],
            "text/plain": [
              "<tqdm._fake_ipywidgets.HBox object>"
            ]
          },
          "metadata": {
            "tags": []
          }
        },
        {
          "output_type": "stream",
          "text": [
            "\n"
          ],
          "name": "stdout"
        },
        {
          "output_type": "display_data",
          "data": {
            "text/html": [
              "<div style=\"display:flex;flex-direction:row;\"><span>Epoch: 98/100. Iteration: 25/25. Cls loss: 0.00695. Reg loss: 0.05298. Batch loss: 0.05993 Total loss: 0.09572</span><progress style='margin:2px 4px;description_width:initial;' max='25' value='25'></progress>100% 25/25 [00:10&lt;00:00,  2.96it/s]</div>"
            ],
            "text/plain": [
              "<tqdm._fake_ipywidgets.HBox object>"
            ]
          },
          "metadata": {
            "tags": []
          }
        },
        {
          "output_type": "stream",
          "text": [
            "\n"
          ],
          "name": "stdout"
        },
        {
          "output_type": "display_data",
          "data": {
            "text/html": [
              "<div style=\"display:flex;flex-direction:row;\"><span>Epoch: 99/100. Iteration: 25/25. Cls loss: 0.01754. Reg loss: 0.09894. Batch loss: 0.11648 Total loss: 0.09703</span><progress style='margin:2px 4px;description_width:initial;' max='25' value='25'></progress>100% 25/25 [00:10&lt;00:00,  2.94it/s]</div>"
            ],
            "text/plain": [
              "<tqdm._fake_ipywidgets.HBox object>"
            ]
          },
          "metadata": {
            "tags": []
          }
        },
        {
          "output_type": "stream",
          "text": [
            "\n"
          ],
          "name": "stdout"
        },
        {
          "output_type": "display_data",
          "data": {
            "text/html": [
              "<div style=\"display:flex;flex-direction:row;\"><span>Epoch: 100/100. Iteration: 25/25. Cls loss: 0.02557. Reg loss: 0.09392. Batch loss: 0.11948 Total loss: 0.10051</span><progress style='margin:2px 4px;description_width:initial;' max='25' value='25'></progress>100% 25/25 [00:10&lt;00:00,  2.95it/s]</div>"
            ],
            "text/plain": [
              "<tqdm._fake_ipywidgets.HBox object>"
            ]
          },
          "metadata": {
            "tags": []
          }
        },
        {
          "output_type": "stream",
          "text": [
            "\n"
          ],
          "name": "stdout"
        }
      ]
    },
    {
      "cell_type": "markdown",
      "metadata": {
        "id": "1cj9gst-hRDg",
        "colab_type": "text"
      },
      "source": [
        "# Inference"
      ]
    },
    {
      "cell_type": "code",
      "metadata": {
        "id": "ZC263x69sfai",
        "colab_type": "code",
        "colab": {}
      },
      "source": [
        "import os\n",
        "import sys\n",
        "sys.path.append(\"Monk_Object_Detection/4_efficientdet/lib/\");"
      ],
      "execution_count": 0,
      "outputs": []
    },
    {
      "cell_type": "code",
      "metadata": {
        "id": "IsxWRWL8tcgP",
        "colab_type": "code",
        "colab": {}
      },
      "source": [
        "from infer_detector import Infer"
      ],
      "execution_count": 0,
      "outputs": []
    },
    {
      "cell_type": "code",
      "metadata": {
        "id": "VEuuSjWYte5-",
        "colab_type": "code",
        "colab": {}
      },
      "source": [
        "gtf = Infer();"
      ],
      "execution_count": 0,
      "outputs": []
    },
    {
      "cell_type": "code",
      "metadata": {
        "id": "YWbOZk-rthzW",
        "colab_type": "code",
        "colab": {}
      },
      "source": [
        "#our trained model weights are in here in onxx format\n",
        "gtf.Model(model_dir=\"trained/\")"
      ],
      "execution_count": 0,
      "outputs": []
    },
    {
      "cell_type": "code",
      "metadata": {
        "id": "CH2Tv7gstkP_",
        "colab_type": "code",
        "colab": {}
      },
      "source": [
        "#extract class list from our annotations\n",
        "import json\n",
        "with open('train/_annotations.coco.json') as json_file:\n",
        "    data = json.load(json_file)\n",
        "class_list = []\n",
        "for category in data['categories']:\n",
        "  class_list.append(category['name'])"
      ],
      "execution_count": 0,
      "outputs": []
    },
    {
      "cell_type": "code",
      "metadata": {
        "id": "qMLy8LIcuRQS",
        "colab_type": "code",
        "outputId": "55ec7b46-73cb-4589-cecd-b027de13d1a1",
        "colab": {
          "base_uri": "https://localhost:8080/"
        }
      },
      "source": [
        "class_list"
      ],
      "execution_count": 0,
      "outputs": [
        {
          "output_type": "execute_result",
          "data": {
            "text/plain": [
              "['pieces',\n",
              " 'black-bishop',\n",
              " 'black-king',\n",
              " 'black-knight',\n",
              " 'black-pawn',\n",
              " 'black-queen',\n",
              " 'black-rook',\n",
              " 'white-bishop',\n",
              " 'white-king',\n",
              " 'white-knight',\n",
              " 'white-pawn',\n",
              " 'white-queen',\n",
              " 'white-rook']"
            ]
          },
          "metadata": {
            "tags": []
          },
          "execution_count": 24
        }
      ]
    },
    {
      "cell_type": "code",
      "metadata": {
        "id": "Oc87-3NPummz",
        "colab_type": "code",
        "outputId": "071ba11d-348c-4cb1-cca7-b67adc2563f6",
        "colab": {
          "base_uri": "https://localhost:8080/"
        }
      },
      "source": [
        "%%time\n",
        "#bang!\n",
        "img_path = \"test/2f6fb003bb89cd401322a535acb42f65_jpg.rf.49b342a7b1f6de3f0e328beaf094a945.jpg\";\n",
        "scores, labels, boxes = gtf.Predict(img_path, class_list, vis_threshold=0.2);"
      ],
      "execution_count": 0,
      "outputs": [
        {
          "output_type": "stream",
          "text": [
            "CPU times: user 66.7 ms, sys: 3.81 ms, total: 70.5 ms\n",
            "Wall time: 91.6 ms\n"
          ],
          "name": "stdout"
        }
      ]
    },
    {
      "cell_type": "code",
      "metadata": {
        "id": "KbJbgLggvGM_",
        "colab_type": "code",
        "outputId": "59bd4207-9e5c-4ef0-80b9-9016618a1fd4",
        "colab": {
          "base_uri": "https://localhost:8080/"
        }
      },
      "source": [
        "from IPython.display import Image\n",
        "Image(filename='output.jpg') "
      ],
      "execution_count": 0,
      "outputs": [
        {
          "output_type": "execute_result",
          "data": {
            "image/jpeg": "[encoded data removed]",
            "text/plain": [
              "<IPython.core.display.Image object>"
            ]
          },
          "metadata": {
            "tags": []
          },
          "execution_count": 26
        }
      ]
    },
    {
      "cell_type": "markdown",
      "metadata": {
        "id": "WfyWosXWrbWN",
        "colab_type": "text"
      },
      "source": [
        "# Export Trained Weights"
      ]
    },
    {
      "cell_type": "code",
      "metadata": {
        "id": "KwDS9qqBbMQa",
        "colab_type": "code",
        "colab": {}
      },
      "source": [
        "#export trained model\n",
        "# mount Google Drive\n",
        "from google.colab import drive\n",
        "drive.mount('/content/drive')"
      ],
      "execution_count": 0,
      "outputs": []
    },
    {
      "cell_type": "code",
      "metadata": {
        "id": "WSqXvZhlbfCc",
        "colab_type": "code",
        "colab": {}
      },
      "source": [
        "%mkdir trained_export\n",
        "%cp ./trained/signatrix_efficientdet_coco.onnx ./trained_export/signatrix_efficientdet_coco_$(date +%F-%H:%M).onnx\n",
        "%cp ./trained/signatrix_efficientdet_coco.pth ./trained_export/signatrix_efficientdet_coco_$(date +%F-%H:%M).pth\n",
        "%mv ./trained_export/* /content/drive/My\\ Drive/"
      ],
      "execution_count": 0,
      "outputs": []
    },
    {
      "cell_type": "markdown",
      "metadata": {
        "id": "7ieAIXwm11CO",
        "colab_type": "text"
      },
      "source": [
        "# Reloading Trained Weights after Export\n",
        "\n",
        "Imagine you have exported your trained model and would like to reaccess it later. This portion of the notebook picks up the trained model and starts at inference\n"
      ]
    },
    {
      "cell_type": "code",
      "metadata": {
        "id": "fJ5__F0haiqP",
        "colab_type": "code",
        "colab": {}
      },
      "source": [
        "#export trained model\n",
        "# mount Google Drive\n",
        "from google.colab import drive\n",
        "drive.mount('/content/drive')"
      ],
      "execution_count": 0,
      "outputs": []
    },
    {
      "cell_type": "code",
      "metadata": {
        "id": "nhyNJ7GsatcD",
        "colab_type": "code",
        "colab": {}
      },
      "source": [
        "#our fork of the Tessellate-Imaging image detection library\n",
        "#!rm -rf Monk_Object_Detection\n",
        "! git clone https://github.com/roboflow-ai/Monk_Object_Detection.git"
      ],
      "execution_count": 0,
      "outputs": []
    },
    {
      "cell_type": "code",
      "metadata": {
        "id": "pTVWQohaa2WU",
        "colab_type": "code",
        "colab": {}
      },
      "source": [
        "# For colab use the command below\n",
        "# Set up library requirments\n",
        "! cd Monk_Object_Detection/3_mxrcnn/installation && cat requirements_colab.txt | xargs -n 1 -L 1 pip install\n",
        "\n",
        "#fixed version of tqdm output for Colab\n",
        "!pip install --force https://github.com/chengs/tqdm/archive/colab.zip\n",
        "#IGNORE restart runtime warning, it is indeed installed\n",
        "#missing a few extra packages that we will need later! \n",
        "!pip install efficientnet_pytorch\n",
        "!pip install tensorboardX"
      ],
      "execution_count": 0,
      "outputs": []
    },
    {
      "cell_type": "code",
      "metadata": {
        "id": "_rKXFWlLbZlf",
        "colab_type": "code",
        "colab": {}
      },
      "source": [
        "#recover trained weights\n",
        "!mkdir '/trained'\n",
        "!cp '/content/drive/My Drive/signatrix_efficientdet_coco_2020-04-10-15:18.onnx' '/trained/signatrix_efficientdet_coco.onnx'\n",
        "!cp '/content/drive/My Drive/signatrix_efficientdet_coco_2020-04-10-15:18.pth' '/trained/signatrix_efficientdet_coco.pth'"
      ],
      "execution_count": 0,
      "outputs": []
    },
    {
      "cell_type": "code",
      "metadata": {
        "id": "maetU4VddJNC",
        "colab_type": "code",
        "colab": {}
      },
      "source": [
        "import os\n",
        "import sys\n",
        "sys.path.append(\"Monk_Object_Detection/4_efficientdet/lib/\");"
      ],
      "execution_count": 0,
      "outputs": []
    },
    {
      "cell_type": "code",
      "metadata": {
        "id": "C3Jrco_TdkhU",
        "colab_type": "code",
        "colab": {}
      },
      "source": [
        "from infer_detector import Infer\n",
        "gtf = Infer();"
      ],
      "execution_count": 0,
      "outputs": []
    },
    {
      "cell_type": "code",
      "metadata": {
        "id": "GgZKzmI1egUa",
        "colab_type": "code",
        "colab": {}
      },
      "source": [
        "#our trained model weights are in here in onxx format\n",
        "gtf.Model(model_dir=\"/trained\")"
      ],
      "execution_count": 0,
      "outputs": []
    },
    {
      "cell_type": "code",
      "metadata": {
        "id": "lEksZQC5fMQ2",
        "colab_type": "code",
        "colab": {}
      },
      "source": [
        "#download some test data\n",
        "!curl -L https://public.roboflow.ai/ds/TyLp8HqTJM?key=Ew91yLZIFw | jar -x"
      ],
      "execution_count": 0,
      "outputs": []
    },
    {
      "cell_type": "code",
      "metadata": {
        "id": "ZOOGlzad1Kln",
        "colab_type": "code",
        "colab": {}
      },
      "source": [
        "!ls test"
      ],
      "execution_count": 0,
      "outputs": []
    },
    {
      "cell_type": "code",
      "metadata": {
        "id": "M0qOyjPh1MOs",
        "colab_type": "code",
        "colab": {}
      },
      "source": [
        "#extract class list from our annotations\n",
        "#in your application you will probably already have this saved\n",
        "import json\n",
        "with open('train/_annotations.coco.json') as json_file:\n",
        "    data = json.load(json_file)\n",
        "class_list = []\n",
        "for category in data['categories']:\n",
        "  class_list.append(category['name'])"
      ],
      "execution_count": 0,
      "outputs": []
    },
    {
      "cell_type": "code",
      "metadata": {
        "id": "xW8EEb111csu",
        "colab_type": "code",
        "colab": {}
      },
      "source": [
        "class_list"
      ],
      "execution_count": 0,
      "outputs": []
    },
    {
      "cell_type": "code",
      "metadata": {
        "id": "ObmqK4EI1ga0",
        "colab_type": "code",
        "colab": {}
      },
      "source": [
        "%%time\n",
        "#bang!\n",
        "img_path = \"test/2f6fb003bb89cd401322a535acb42f65_jpg.rf.49b342a7b1f6de3f0e328beaf094a945.jpg\";\n",
        "scores, labels, boxes = gtf.Predict(img_path, class_list, vis_threshold=0.2);"
      ],
      "execution_count": 0,
      "outputs": []
    },
    {
      "cell_type": "code",
      "metadata": {
        "id": "AINktQgG1kmc",
        "colab_type": "code",
        "colab": {}
      },
      "source": [
        "from IPython.display import Image\n",
        "Image(filename='output.jpg') "
      ],
      "execution_count": 0,
      "outputs": []
    },
    {
      "cell_type": "code",
      "metadata": {
        "id": "FHIdI0d81m_N",
        "colab_type": "code",
        "colab": {}
      },
      "source": [
        ""
      ],
      "execution_count": 0,
      "outputs": []
    }
  ]
}